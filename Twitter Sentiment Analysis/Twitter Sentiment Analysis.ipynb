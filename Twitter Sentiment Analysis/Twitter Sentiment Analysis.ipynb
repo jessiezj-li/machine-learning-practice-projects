{
 "cells": [
  {
   "cell_type": "markdown",
   "metadata": {},
   "source": [
    "## MIE1624 Assignment 1\n",
    "Zhuojun Li\n",
    "<br>\n",
    "999697476"
   ]
  },
  {
   "cell_type": "code",
   "execution_count": 1,
   "metadata": {
    "collapsed": true
   },
   "outputs": [],
   "source": [
    "import pandas as pd\n",
    "import numpy as np\n",
    "from itertools import chain\n",
    "from glob import glob\n",
    "import re\n",
    "import html\n",
    "import matplotlib.pyplot as plt\n",
    "from collections import Counter\n",
    "%matplotlib inline\n",
    "\n",
    "from sklearn.preprocessing import StandardScaler\n",
    "from sklearn.linear_model import LogisticRegression\n",
    "from sklearn.model_selection import train_test_split\n",
    "from sklearn.model_selection import KFold\n",
    "from sklearn.metrics import make_scorer, confusion_matrix\n",
    "from sklearn.model_selection import learning_curve\n",
    "\n",
    "import seaborn as sns"
   ]
  },
  {
   "cell_type": "markdown",
   "metadata": {},
   "source": [
    "### 1. Data Cleaning\n",
    "Before importing the tweets into list/dataframe, we need to to pre-process and remove noises.<br>\n",
    "Five functions are first created to remove or replace the noises in the file. Then the dataCleaning function is used to call all previous functions and perform the data cleaning task.\n",
    "- The red comments describe the ability of each function.\n",
    "- The green comments (either on top of or right after the code) explain the purpose of each step."
   ]
  },
  {
   "cell_type": "code",
   "execution_count": 2,
   "metadata": {
    "collapsed": true
   },
   "outputs": [],
   "source": [
    "def remove_tags(file):\n",
    "    '''\n",
    "    The remove_tags function removes html tags and attributes from the unclassified twitter data\n",
    "    '''\n",
    "    \n",
    "    clean = open(file,\"r\")\n",
    "    lines = re.sub(\"<[^>]+?>\",\"\",clean.read(), flags=re.MULTILINE)#remove html tags in the file\n",
    "    \n",
    "    return open(file,\"w\").writelines(lines)"
   ]
  },
  {
   "cell_type": "code",
   "execution_count": 3,
   "metadata": {
    "collapsed": true
   },
   "outputs": [],
   "source": [
    "def replace_characters(file):\n",
    "    '''\n",
    "    The replace_character function replaces html character codes with ASCII equivalent\n",
    "    '''\n",
    "    \n",
    "    clean = open(file,\"r\")\n",
    "    lines = [html.unescape(line) for line in clean]  #the unescape function converts html entities to its ascii equivalent\n",
    "    \n",
    "    return open(file,\"w\").writelines(lines)"
   ]
  },
  {
   "cell_type": "code",
   "execution_count": 4,
   "metadata": {
    "collapsed": true
   },
   "outputs": [],
   "source": [
    "def remove_URLs(file):\n",
    "    '''\n",
    "    The remove_URLs function removes URLs\n",
    "    '''\n",
    "    \n",
    "    clean = open(file,\"r\")\n",
    "    \n",
    "    #consider various possible forms of urls and replace them with \"\"\n",
    "    lines = re.sub(r'(?:(?:http|https):\\/\\/)?([-a-zA-Z0-9.]{2,256}\\.[a-z]{2,4})\\b(?:\\/[-a-zA-Z0-9@:%_\\+.~#?&//=]*)?', \"\", clean.read(), flags=re.MULTILINE)\n",
    "    \n",
    "    return open(file,\"w\").writelines(lines)"
   ]
  },
  {
   "cell_type": "code",
   "execution_count": 5,
   "metadata": {
    "collapsed": true
   },
   "outputs": [],
   "source": [
    "def convert_to_lower(file):\n",
    "    '''\n",
    "    The convert_to_lower function converts all characters in the text to lowercases\n",
    "    '''\n",
    "    \n",
    "    clean = open(file,\"r\")\n",
    "    lines = [line.lower() for line in clean]  #convert all texts in the file to lowercases\n",
    "    \n",
    "    return open(file,\"w\").writelines(lines)"
   ]
  },
  {
   "cell_type": "code",
   "execution_count": 6,
   "metadata": {
    "collapsed": true
   },
   "outputs": [],
   "source": [
    "def remove_stopwords(file, stopwords):\n",
    "    '''\n",
    "    The remove_stopwords function removes all stopwords\n",
    "    '''\n",
    "    \n",
    "    lines = open(file,\"r\").readlines()  #put the tweets file into \"lines\" list\n",
    "    stoplist = open(stopwords,\"r\").readlines()  #put the stop words file into \"stoplist\" list\n",
    "    newlines = [] #initialize the list to store tweets after removing stop words\n",
    "    newstring = \"\" #initialize the string to store tweet\n",
    "    checkPoint = True #intialize the boolean variable to check if a stop word is found\n",
    "    punctuationlist = [\".\",\",\",\"…\",\"?\",\"!\",\"#\",\"@\",\"(\",\")\",'\"','“','”',\":\",\";\",\"-\",\"<\",\">\",\"/\",\"&\",\"–\",\"«\",\"»\"]\n",
    "    \n",
    "    #The following nested loop is used to check stopwords in all tweets\n",
    "    #loop through each tweet, first remove any punctuation in the tweet\n",
    "    #then, check if it contains any stopword in the stopwords list\n",
    "    #if so, replace the stopword with \"\"\n",
    "    #if not, move on to the next stopword\n",
    "    #when all the stopwords are checked for one tweet, append the tweet to the newlines list and move on to next tweet\n",
    "    for line in lines:\n",
    "        lineReplace = line\n",
    "        for i in punctuationlist:\n",
    "            lineReplace = lineReplace.replace(i,\" \")\n",
    "        checktweets = lineReplace.split()\n",
    "        for checktweet in checktweets:\n",
    "            checkPoint = True\n",
    "            for s in stoplist:\n",
    "                if checktweet == s.strip(\"\\n\"):\n",
    "                    checkPoint = False\n",
    "                    break\n",
    "                else:\n",
    "                    continue\n",
    "            if checkPoint == True:\n",
    "                newstring = newstring + checktweet + \" \"\n",
    "        \n",
    "        newstring = newstring + \"\\n\" #adding \"\\n\" to each tweet ensures empty tweets being preserved\n",
    "        newlines.append(newstring)\n",
    "        newstring = \"\"\n",
    "        \n",
    "    return open(file,\"w\").writelines(newlines)"
   ]
  },
  {
   "cell_type": "code",
   "execution_count": 7,
   "metadata": {
    "collapsed": true
   },
   "outputs": [],
   "source": [
    "def dataCleaning(file, stop):\n",
    "    '''\n",
    "    The dataCleaning function is designed to clean the unclassified tweets in preparation for further analysis.\n",
    "    \n",
    "    '''\n",
    "    \n",
    "    #remove all empty lines in the original file\n",
    "    templist = open(file,\"r\").readlines()\n",
    "    for temp in templist:\n",
    "        if temp == \"\\n\":\n",
    "            templist.remove(temp)\n",
    "    open(file,\"w\").writelines(templist)\n",
    "    \n",
    "    #call the five functions to clean the unclassified tweets file\n",
    "    remove_tags(file)\n",
    "    replace_characters(file)\n",
    "    remove_URLs(file)\n",
    "    convert_to_lower(file)\n",
    "    remove_stopwords(file,stop)\n",
    "    \n",
    "    return None"
   ]
  },
  {
   "cell_type": "markdown",
   "metadata": {},
   "source": [
    "Call the dataCleaning function to clean unclassified tweets"
   ]
  },
  {
   "cell_type": "code",
   "execution_count": 8,
   "metadata": {
    "collapsed": true
   },
   "outputs": [],
   "source": [
    "unclassified = \"unclassified_tweets.txt\"  #assign the unclassified tweets file name\n",
    "stopwords = \"stop_words.txt\"  #assign the stopwords file name\n",
    "\n",
    "dataCleaning(unclassified, stopwords)"
   ]
  },
  {
   "cell_type": "markdown",
   "metadata": {},
   "source": [
    "### 2. Exploratory Analysis\n",
    "To determine the political party of a given tweet, we follow the following steps.\n",
    "1. First, we generate a list of keywords related to each political party.\n",
    "2. Then, we go through the text of the tweet. If there is a match to any keyword of only one party, we can conclude that the tweet is about this party. If there is a match to keywords of more than one party, we put the tweet to \"mixed\" category as it is about multiple parties. If there is no match to any of the keyword, we conclude that the tweet is not related to major political parties (\"not_related\" category).\n",
    "\n",
    "Using the above approach, we proceed to determine the political party for all given tweets.<br>\n",
    "Loop all tweets in the file and determine their relavency to political parties."
   ]
  },
  {
   "cell_type": "code",
   "execution_count": 1,
   "metadata": {
    "scrolled": true
   },
   "outputs": [
    {
     "ename": "FileNotFoundError",
     "evalue": "[Errno 2] No such file or directory: 'unclassified_tweets.txt'",
     "output_type": "error",
     "traceback": [
      "\u001b[0;31m---------------------------------------------------------------------------\u001b[0m",
      "\u001b[0;31mFileNotFoundError\u001b[0m                         Traceback (most recent call last)",
      "\u001b[0;32m<ipython-input-1-3eaf75d213fb>\u001b[0m in \u001b[0;36m<module>\u001b[0;34m()\u001b[0m\n\u001b[1;32m     21\u001b[0m \u001b[0;34m\u001b[0m\u001b[0m\n\u001b[1;32m     22\u001b[0m \u001b[0;31m#open the unclassified tweets file (cleaned) and store tweets into a list\u001b[0m\u001b[0;34m\u001b[0m\u001b[0;34m\u001b[0m\u001b[0m\n\u001b[0;32m---> 23\u001b[0;31m \u001b[0mlines\u001b[0m \u001b[0;34m=\u001b[0m \u001b[0mopen\u001b[0m\u001b[0;34m(\u001b[0m\u001b[0;34m\"unclassified_tweets.txt\"\u001b[0m\u001b[0;34m,\u001b[0m\u001b[0;34m\"r\"\u001b[0m\u001b[0;34m)\u001b[0m\u001b[0;34m.\u001b[0m\u001b[0mreadlines\u001b[0m\u001b[0;34m(\u001b[0m\u001b[0;34m)\u001b[0m\u001b[0;34m\u001b[0m\u001b[0m\n\u001b[0m\u001b[1;32m     24\u001b[0m \u001b[0;34m\u001b[0m\u001b[0m\n\u001b[1;32m     25\u001b[0m \u001b[0;31m#loop all tweets to count frequency of each party being mentioned in tweets\u001b[0m\u001b[0;34m\u001b[0m\u001b[0;34m\u001b[0m\u001b[0m\n",
      "\u001b[0;31mFileNotFoundError\u001b[0m: [Errno 2] No such file or directory: 'unclassified_tweets.txt'"
     ]
    }
   ],
   "source": [
    "#create a list of keywords for each political party\n",
    "kw_liberal = [\"lpc\",\"liberal\",\"liberals\",\"liberalparty\",\"justin\",\"trudeau\",\"justintrudeau\",\"teamtrudeau\",\n",
    "              \"realchange\",\"realchangenow\",\"voteliberals\",\"vote4change\"]\n",
    "kw_conservative = [\"cpc\",\"conservative\",\"stephen\",\"harper\",\"pmharper\", \"stephenharper\", \"stevenharper\", \n",
    "                   \"conservatives\",\"voteconservative\", \"votecpc\"]\n",
    "kw_ndp = [\"ndp\",\"tom\",\"thomas\",\"mulcair\",\"tommulcair\",\"thomasmulcair\",\"tm4pm\",\"ndpleader\",\"ndpwillchangethat\",\n",
    "         \"timeforchange\"]\n",
    "\n",
    "#create counters for each political party, mixed and not_related\n",
    "#total number of the following five counts = total number of tweets\n",
    "count_liberal = 0\n",
    "count_conservative = 0\n",
    "count_ndp = 0\n",
    "count_mixed = 0\n",
    "count_notrelated = 0\n",
    "\n",
    "#create counters just for the three major parties (including mixed)\n",
    "count_L = 0\n",
    "count_C = 0\n",
    "count_N = 0\n",
    "\n",
    "#open the unclassified tweets file (cleaned) and store tweets into a list\n",
    "lines = open(\"unclassified_tweets.txt\",\"r\").readlines()\n",
    "\n",
    "#loop all tweets to count frequency of each party being mentioned in tweets\n",
    "for line in lines:\n",
    "    l_tag = False\n",
    "    c_tag = False\n",
    "    n_tag = False\n",
    "    for i in kw_liberal:\n",
    "        if line.find(i) == -1:\n",
    "            continue\n",
    "        else:\n",
    "            count_liberal = count_liberal + 1\n",
    "            count_L = count_L + 1\n",
    "            l_tag = True\n",
    "            break\n",
    "    for j in kw_conservative:\n",
    "        if line.find(j) == -1:\n",
    "            continue\n",
    "        else:\n",
    "            count_conservative = count_conservative + 1\n",
    "            count_C = count_C + 1\n",
    "            c_tag = True\n",
    "            break\n",
    "    for k in kw_ndp:\n",
    "        if line.find(k) == -1:\n",
    "            continue\n",
    "        else:\n",
    "            count_ndp = count_ndp + 1\n",
    "            count_N = count_N + 1\n",
    "            n_tag = True\n",
    "            break\n",
    "    \n",
    "    #adjust counts for individual parties if more than one party is mentioned in one tweet\n",
    "    if l_tag == True and c_tag == True and n_tag == False:\n",
    "        count_liberal = count_liberal - 1\n",
    "        count_conservative = count_conservative - 1\n",
    "        count_mixed = count_mixed + 1\n",
    "    elif l_tag == True and c_tag == False and n_tag == True:\n",
    "        count_liberal = count_liberal - 1\n",
    "        count_ndp = count_ndp - 1\n",
    "        count_mixed = count_mixed + 1\n",
    "    elif l_tag == False and c_tag == True and n_tag == True:\n",
    "        count_conservative = count_conservative - 1\n",
    "        count_ndp = count_ndp - 1\n",
    "        count_mixed = count_mixed + 1\n",
    "    elif l_tag == True and c_tag == True and n_tag == True:\n",
    "        count_liberal = count_liberal - 1\n",
    "        count_conservative = count_conservative - 1\n",
    "        count_ndp = count_ndp - 1\n",
    "        count_mixed = count_mixed + 1\n",
    "    elif l_tag == False and c_tag == False and n_tag == False:\n",
    "        count_notrelated = count_notrelated + 1\n",
    "\n",
    "print(len(lines))\n",
    "print(count_liberal)\n",
    "print(count_conservative)\n",
    "print(count_ndp)\n",
    "print(count_mixed)\n",
    "print(count_notrelated)\n",
    "print(count_mixed/(len(lines)-count_notrelated))"
   ]
  },
  {
   "cell_type": "markdown",
   "metadata": {
    "collapsed": true
   },
   "source": [
    "#### Distribution of political affiliation of the tweets\n",
    "From the analysis above, we have the following result:\n",
    "- Out of the 3080 tweets, there are 1712 (=3080-1368) tweets (around 55.6% of total tweets) are about the three major political parties.\n",
    "- For all tweets that are about the three major parties, 536 mentioned only liberal party, 516 mentioned only conservative party, and 286 mentioned only NDP.\n",
    "- Liberal and conservative parties are more frequently discussed/mentioned on twitter than NDP.\n",
    "- The amount of tweets about liberal and conservative party is quite close."
   ]
  },
  {
   "cell_type": "markdown",
   "metadata": {},
   "source": [
    "#### Charts for Unclassified Data"
   ]
  },
  {
   "cell_type": "code",
   "execution_count": 10,
   "metadata": {
    "scrolled": true
   },
   "outputs": [
    {
     "data": {
      "image/png": "[encoded data removed]",
      "text/plain": [
       "<matplotlib.figure.Figure at 0x1a168c1f98>"
      ]
     },
     "metadata": {},
     "output_type": "display_data"
    },
    {
     "data": {
      "image/png": "[encoded data removed]",
      "text/plain": [
       "<matplotlib.figure.Figure at 0x1a16b562e8>"
      ]
     },
     "metadata": {},
     "output_type": "display_data"
    }
   ],
   "source": [
    "#Plot a pie chart for distribution of three major parties related tweets versus not related tweets\n",
    "\n",
    "plt.figure(0)\n",
    "labellist = [\"Three Major Parties Related\",\"Not Related\"]\n",
    "num = [len(lines) - count_notrelated, count_notrelated]\n",
    "\n",
    "plt.axis(\"equal\")\n",
    "plt.pie(num, labels=labellist, autopct=\"%1.1f%%\")\n",
    "plt.title(\"Tweets Relavency Distribution of Three Major Political Parties\")\n",
    "\n",
    "#--------------------------------------------------------\n",
    "#Plot a bar chart for number of tweets about each of the three major parties\n",
    "plt.figure(1)\n",
    "xlabellist = (\"Liberal\", \"Conservative\", \"NDP\")\n",
    "ynumber = [count_liberal, count_conservative, count_ndp]\n",
    "x = np.arange(len(ynumber))\n",
    "barwidth = 0.5\n",
    "\n",
    "plt.bar(x, ynumber, width = barwidth)\n",
    "plt.xlabel(\"political parties\")\n",
    "plt.ylabel(\"# of relavent tweets\")\n",
    "plt.title(\"Number of Relavent Tweets by Political Party\")\n",
    "\n",
    "plt.show()"
   ]
  },
  {
   "cell_type": "markdown",
   "metadata": {},
   "source": [
    "#### Chart for Classified Data"
   ]
  },
  {
   "cell_type": "code",
   "execution_count": 11,
   "metadata": {
    "collapsed": true,
    "scrolled": true
   },
   "outputs": [],
   "source": [
    "classifiedData = pd.read_csv(\"classified_tweets.txt\")"
   ]
  },
  {
   "cell_type": "code",
   "execution_count": 12,
   "metadata": {
    "scrolled": false
   },
   "outputs": [
    {
     "data": {
      "text/html": [
       "<div>\n",
       "<style>\n",
       "    .dataframe thead tr:only-child th {\n",
       "        text-align: right;\n",
       "    }\n",
       "\n",
       "    .dataframe thead th {\n",
       "        text-align: left;\n",
       "    }\n",
       "\n",
       "    .dataframe tbody tr th {\n",
       "        vertical-align: top;\n",
       "    }\n",
       "</style>\n",
       "<table border=\"1\" class=\"dataframe\">\n",
       "  <thead>\n",
       "    <tr style=\"text-align: right;\">\n",
       "      <th></th>\n",
       "      <th>class</th>\n",
       "      <th>id</th>\n",
       "      <th>date</th>\n",
       "      <th>query</th>\n",
       "      <th>user</th>\n",
       "      <th>text</th>\n",
       "    </tr>\n",
       "  </thead>\n",
       "  <tbody>\n",
       "    <tr>\n",
       "      <th>0</th>\n",
       "      <td>0</td>\n",
       "      <td>1467810369</td>\n",
       "      <td>Mon Apr 06 22:19:45 PDT 2009</td>\n",
       "      <td>NO_QUERY</td>\n",
       "      <td>_TheSpecialOne_</td>\n",
       "      <td>@switchfoot http://twitpic.com/2y1zl - Awww, t...</td>\n",
       "    </tr>\n",
       "    <tr>\n",
       "      <th>1</th>\n",
       "      <td>0</td>\n",
       "      <td>1467810672</td>\n",
       "      <td>Mon Apr 06 22:19:49 PDT 2009</td>\n",
       "      <td>NO_QUERY</td>\n",
       "      <td>scotthamilton</td>\n",
       "      <td>is upset that he can't update his Facebook by ...</td>\n",
       "    </tr>\n",
       "    <tr>\n",
       "      <th>2</th>\n",
       "      <td>0</td>\n",
       "      <td>1467810917</td>\n",
       "      <td>Mon Apr 06 22:19:53 PDT 2009</td>\n",
       "      <td>NO_QUERY</td>\n",
       "      <td>mattycus</td>\n",
       "      <td>@Kenichan I dived many times for the ball. Man...</td>\n",
       "    </tr>\n",
       "    <tr>\n",
       "      <th>3</th>\n",
       "      <td>0</td>\n",
       "      <td>1467811184</td>\n",
       "      <td>Mon Apr 06 22:19:57 PDT 2009</td>\n",
       "      <td>NO_QUERY</td>\n",
       "      <td>ElleCTF</td>\n",
       "      <td>my whole body feels itchy and like its on fire</td>\n",
       "    </tr>\n",
       "    <tr>\n",
       "      <th>4</th>\n",
       "      <td>0</td>\n",
       "      <td>1467811193</td>\n",
       "      <td>Mon Apr 06 22:19:57 PDT 2009</td>\n",
       "      <td>NO_QUERY</td>\n",
       "      <td>Karoli</td>\n",
       "      <td>@nationwideclass no, it's not behaving at all....</td>\n",
       "    </tr>\n",
       "  </tbody>\n",
       "</table>\n",
       "</div>"
      ],
      "text/plain": [
       "   class          id                          date     query             user  \\\n",
       "0      0  1467810369  Mon Apr 06 22:19:45 PDT 2009  NO_QUERY  _TheSpecialOne_   \n",
       "1      0  1467810672  Mon Apr 06 22:19:49 PDT 2009  NO_QUERY    scotthamilton   \n",
       "2      0  1467810917  Mon Apr 06 22:19:53 PDT 2009  NO_QUERY         mattycus   \n",
       "3      0  1467811184  Mon Apr 06 22:19:57 PDT 2009  NO_QUERY          ElleCTF   \n",
       "4      0  1467811193  Mon Apr 06 22:19:57 PDT 2009  NO_QUERY           Karoli   \n",
       "\n",
       "                                                text  \n",
       "0  @switchfoot http://twitpic.com/2y1zl - Awww, t...  \n",
       "1  is upset that he can't update his Facebook by ...  \n",
       "2  @Kenichan I dived many times for the ball. Man...  \n",
       "3    my whole body feels itchy and like its on fire   \n",
       "4  @nationwideclass no, it's not behaving at all....  "
      ]
     },
     "execution_count": 12,
     "metadata": {},
     "output_type": "execute_result"
    }
   ],
   "source": [
    "classifiedData.head()"
   ]
  },
  {
   "cell_type": "code",
   "execution_count": 13,
   "metadata": {},
   "outputs": [
    {
     "data": {
      "text/plain": [
       "<matplotlib.axes._subplots.AxesSubplot at 0x1a2548a8d0>"
      ]
     },
     "execution_count": 13,
     "metadata": {},
     "output_type": "execute_result"
    },
    {
     "data": {
      "image/png": "[encoded data removed]",
      "text/plain": [
       "<matplotlib.figure.Figure at 0x110e67128>"
      ]
     },
     "metadata": {},
     "output_type": "display_data"
    }
   ],
   "source": [
    "sns.countplot(x='class',data=classifiedData) #plot a bar chart to see the distribution of sentiment value(class)"
   ]
  },
  {
   "cell_type": "markdown",
   "metadata": {},
   "source": [
    "### 3. Model Preparation\n"
   ]
  },
  {
   "cell_type": "markdown",
   "metadata": {
    "collapsed": true
   },
   "source": [
    "#### Prepare the classified data\n",
    "Before builidng the model, we need to first modify the classified dataframe and add independent features.\n",
    "- We first drop the unneeded columns: id, date, query, user\n",
    "- Then, we clean the text column by removing urls, replacing html entities, converting all texts to lowercases and removing punctuations\n",
    "- Finally, we remove the stop words from the text column by referencing the stop_words text file"
   ]
  },
  {
   "cell_type": "markdown",
   "metadata": {},
   "source": [
    "Drop unneeded columns"
   ]
  },
  {
   "cell_type": "code",
   "execution_count": 14,
   "metadata": {
    "collapsed": true
   },
   "outputs": [],
   "source": [
    "classifiedData.drop(['id','date','query','user'],axis=1, inplace=True)"
   ]
  },
  {
   "cell_type": "code",
   "execution_count": 15,
   "metadata": {
    "scrolled": false
   },
   "outputs": [
    {
     "data": {
      "text/html": [
       "<div>\n",
       "<style>\n",
       "    .dataframe thead tr:only-child th {\n",
       "        text-align: right;\n",
       "    }\n",
       "\n",
       "    .dataframe thead th {\n",
       "        text-align: left;\n",
       "    }\n",
       "\n",
       "    .dataframe tbody tr th {\n",
       "        vertical-align: top;\n",
       "    }\n",
       "</style>\n",
       "<table border=\"1\" class=\"dataframe\">\n",
       "  <thead>\n",
       "    <tr style=\"text-align: right;\">\n",
       "      <th></th>\n",
       "      <th>class</th>\n",
       "      <th>text</th>\n",
       "    </tr>\n",
       "  </thead>\n",
       "  <tbody>\n",
       "    <tr>\n",
       "      <th>0</th>\n",
       "      <td>0</td>\n",
       "      <td>@switchfoot http://twitpic.com/2y1zl - Awww, t...</td>\n",
       "    </tr>\n",
       "    <tr>\n",
       "      <th>1</th>\n",
       "      <td>0</td>\n",
       "      <td>is upset that he can't update his Facebook by ...</td>\n",
       "    </tr>\n",
       "    <tr>\n",
       "      <th>2</th>\n",
       "      <td>0</td>\n",
       "      <td>@Kenichan I dived many times for the ball. Man...</td>\n",
       "    </tr>\n",
       "    <tr>\n",
       "      <th>3</th>\n",
       "      <td>0</td>\n",
       "      <td>my whole body feels itchy and like its on fire</td>\n",
       "    </tr>\n",
       "    <tr>\n",
       "      <th>4</th>\n",
       "      <td>0</td>\n",
       "      <td>@nationwideclass no, it's not behaving at all....</td>\n",
       "    </tr>\n",
       "  </tbody>\n",
       "</table>\n",
       "</div>"
      ],
      "text/plain": [
       "   class                                               text\n",
       "0      0  @switchfoot http://twitpic.com/2y1zl - Awww, t...\n",
       "1      0  is upset that he can't update his Facebook by ...\n",
       "2      0  @Kenichan I dived many times for the ball. Man...\n",
       "3      0    my whole body feels itchy and like its on fire \n",
       "4      0  @nationwideclass no, it's not behaving at all...."
      ]
     },
     "execution_count": 15,
     "metadata": {},
     "output_type": "execute_result"
    }
   ],
   "source": [
    "classifiedData.head()"
   ]
  },
  {
   "cell_type": "markdown",
   "metadata": {},
   "source": [
    "Convert to lowercases"
   ]
  },
  {
   "cell_type": "code",
   "execution_count": 16,
   "metadata": {
    "collapsed": true
   },
   "outputs": [],
   "source": [
    "classifiedData['text']=classifiedData['text'].str.lower()"
   ]
  },
  {
   "cell_type": "markdown",
   "metadata": {},
   "source": [
    "Remove URLs"
   ]
  },
  {
   "cell_type": "code",
   "execution_count": 17,
   "metadata": {
    "collapsed": true
   },
   "outputs": [],
   "source": [
    "classifiedData['text']=classifiedData['text'].str.replace(r'(?:(?:http|https):\\/\\/)?([-a-zA-Z0-9.]{2,256}\\.[a-z]{2,4})\\b(?:\\/[-a-zA-Z0-9@:%_\\+.~#?&//=]*)?', \"\")"
   ]
  },
  {
   "cell_type": "markdown",
   "metadata": {},
   "source": [
    "Replace html entities"
   ]
  },
  {
   "cell_type": "code",
   "execution_count": 18,
   "metadata": {
    "collapsed": true
   },
   "outputs": [],
   "source": [
    "templist = classifiedData['text'].tolist()\n",
    "templist = [html.unescape(temp) for temp in templist]"
   ]
  },
  {
   "cell_type": "markdown",
   "metadata": {},
   "source": [
    "Remove punctuations"
   ]
  },
  {
   "cell_type": "code",
   "execution_count": 19,
   "metadata": {
    "collapsed": true
   },
   "outputs": [],
   "source": [
    "punctuationlist = [\".\",\",\",\"…\",\"?\",\"!\",\"#\",\"@\",\"(\",\")\",'\"','“','”',\":\",\"-\",'&','=','<','>',';','/']\n",
    "punc2 = [\"'\"]\n",
    "numlist = ['0','1','2','3','4','5','6','7','8','9','10','20','30','40','50','00']\n",
    "newlist=[]\n",
    "for line in templist:\n",
    "    lineReplace = line\n",
    "    for i in punctuationlist:\n",
    "        lineReplace = lineReplace.replace(i,\" \")\n",
    "    for j in punc2:\n",
    "        lineReplace = lineReplace.replace(j,'')\n",
    "    for k in numlist:\n",
    "        lineReplace = lineReplace.replace(k,\" \")\n",
    "    newlist.append(lineReplace)"
   ]
  },
  {
   "cell_type": "markdown",
   "metadata": {},
   "source": [
    "Remove stop words"
   ]
  },
  {
   "cell_type": "code",
   "execution_count": 20,
   "metadata": {
    "collapsed": true
   },
   "outputs": [],
   "source": [
    "stoplist = open(stopwords,'r').readlines()\n",
    "stoplist.append('t\\n')\n",
    "stoplist.append('sure\\n')\n",
    "stop=[]\n",
    "for s in stoplist:\n",
    "    snew = s.strip('\\n')\n",
    "    stop.append(snew)"
   ]
  },
  {
   "cell_type": "code",
   "execution_count": 21,
   "metadata": {
    "collapsed": true
   },
   "outputs": [],
   "source": [
    "textn=\"\"\n",
    "newtext=[]\n",
    "for l in newlist:\n",
    "    checktext = l.split()\n",
    "    for text in checktext:\n",
    "        checkpoint = True\n",
    "        for s in stop:\n",
    "            if text == s:\n",
    "                checkpoint = False\n",
    "                break\n",
    "            else:\n",
    "                continue\n",
    "        if checkpoint == True:\n",
    "            textn = textn + text + \" \"\n",
    "    newtext.append(textn)\n",
    "    textn = \"\""
   ]
  },
  {
   "cell_type": "markdown",
   "metadata": {},
   "source": [
    "Add the cleaned text column to classifiedData"
   ]
  },
  {
   "cell_type": "code",
   "execution_count": 22,
   "metadata": {
    "collapsed": true
   },
   "outputs": [],
   "source": [
    "classifiedData['cleanedText']=newtext"
   ]
  },
  {
   "cell_type": "code",
   "execution_count": 23,
   "metadata": {
    "scrolled": true
   },
   "outputs": [
    {
     "data": {
      "text/html": [
       "<div>\n",
       "<style>\n",
       "    .dataframe thead tr:only-child th {\n",
       "        text-align: right;\n",
       "    }\n",
       "\n",
       "    .dataframe thead th {\n",
       "        text-align: left;\n",
       "    }\n",
       "\n",
       "    .dataframe tbody tr th {\n",
       "        vertical-align: top;\n",
       "    }\n",
       "</style>\n",
       "<table border=\"1\" class=\"dataframe\">\n",
       "  <thead>\n",
       "    <tr style=\"text-align: right;\">\n",
       "      <th></th>\n",
       "      <th>class</th>\n",
       "      <th>text</th>\n",
       "      <th>cleanedText</th>\n",
       "    </tr>\n",
       "  </thead>\n",
       "  <tbody>\n",
       "    <tr>\n",
       "      <th>0</th>\n",
       "      <td>0</td>\n",
       "      <td>@switchfoot  - awww, that's a bummer.  you sho...</td>\n",
       "      <td>switchfoot awww bummer shoulda david carr thir...</td>\n",
       "    </tr>\n",
       "    <tr>\n",
       "      <th>1</th>\n",
       "      <td>0</td>\n",
       "      <td>is upset that he can't update his facebook by ...</td>\n",
       "      <td>upset cant update facebook texting cry result ...</td>\n",
       "    </tr>\n",
       "    <tr>\n",
       "      <th>2</th>\n",
       "      <td>0</td>\n",
       "      <td>@kenichan i dived many times for the ball. man...</td>\n",
       "      <td>kenichan dived times ball managed save % rest ...</td>\n",
       "    </tr>\n",
       "    <tr>\n",
       "      <th>3</th>\n",
       "      <td>0</td>\n",
       "      <td>my whole body feels itchy and like its on fire</td>\n",
       "      <td>body feels itchy fire</td>\n",
       "    </tr>\n",
       "    <tr>\n",
       "      <th>4</th>\n",
       "      <td>0</td>\n",
       "      <td>@nationwideclass no, it's not behaving at all....</td>\n",
       "      <td>nationwideclass behaving mad cant</td>\n",
       "    </tr>\n",
       "  </tbody>\n",
       "</table>\n",
       "</div>"
      ],
      "text/plain": [
       "   class                                               text  \\\n",
       "0      0  @switchfoot  - awww, that's a bummer.  you sho...   \n",
       "1      0  is upset that he can't update his facebook by ...   \n",
       "2      0  @kenichan i dived many times for the ball. man...   \n",
       "3      0    my whole body feels itchy and like its on fire    \n",
       "4      0  @nationwideclass no, it's not behaving at all....   \n",
       "\n",
       "                                         cleanedText  \n",
       "0  switchfoot awww bummer shoulda david carr thir...  \n",
       "1  upset cant update facebook texting cry result ...  \n",
       "2  kenichan dived times ball managed save % rest ...  \n",
       "3                             body feels itchy fire   \n",
       "4                 nationwideclass behaving mad cant   "
      ]
     },
     "execution_count": 23,
     "metadata": {},
     "output_type": "execute_result"
    }
   ],
   "source": [
    "classifiedData.head()"
   ]
  },
  {
   "cell_type": "markdown",
   "metadata": {},
   "source": [
    "#### Build Model\n",
    "After cleaning the text column, we add the following independent features:\n",
    "1. length of each cleaned tweet\n",
    "2. corpus score\n",
    "3. frequency of most common 200 words\n",
    "\n",
    "In order to calculate the values for the features, we perform the following steps:\n",
    "- Get the length of each tweet\n",
    "- Read the corpus list and calculate the corpus score for each tweet\n",
    "- Get the top 200 most common words in classified tweets and count the frequency of each word for each tweet"
   ]
  },
  {
   "cell_type": "markdown",
   "metadata": {},
   "source": [
    "Get length of tweets"
   ]
  },
  {
   "cell_type": "code",
   "execution_count": 24,
   "metadata": {
    "collapsed": true
   },
   "outputs": [],
   "source": [
    "lenoftweet = []\n",
    "for i in newtext:\n",
    "    lennum = len(i)\n",
    "    lenoftweet.append(lennum)"
   ]
  },
  {
   "cell_type": "markdown",
   "metadata": {},
   "source": [
    "Load the corpus list (word + sentiment score)<br>\n",
    "Calculate sentiment score for each tweet"
   ]
  },
  {
   "cell_type": "code",
   "execution_count": 25,
   "metadata": {
    "collapsed": true
   },
   "outputs": [],
   "source": [
    "corpus = open(\"corpus.txt\",'r').readlines()\n",
    "corpuslist = []\n",
    "scorelist = []\n",
    "for c in corpus:\n",
    "    p = c.split('\\t')\n",
    "    corpuslist.append(p[0])\n",
    "    scorelist.append(int(p[1].strip('\\n')))"
   ]
  },
  {
   "cell_type": "code",
   "execution_count": 26,
   "metadata": {
    "collapsed": true
   },
   "outputs": [],
   "source": [
    "sentilist = []\n",
    "senti = 0\n",
    "for tweet in newtext:\n",
    "    eachword = tweet.split()\n",
    "    for each in eachword:\n",
    "        for keyword in corpuslist:\n",
    "            if each == keyword:\n",
    "                senti = senti + scorelist[corpuslist.index(keyword)]\n",
    "    sentilist.append(senti)\n",
    "    senti = 0"
   ]
  },
  {
   "cell_type": "markdown",
   "metadata": {},
   "source": [
    "Add the two feature columns (length of tweets, corpus score) to classifiedData dataframe and intialize with 0s"
   ]
  },
  {
   "cell_type": "code",
   "execution_count": 27,
   "metadata": {
    "collapsed": true
   },
   "outputs": [],
   "source": [
    "add = pd.DataFrame(columns=['length of tweets','corpus score'])\n",
    "totalDF = pd.concat([classifiedData, add])\n",
    "totalDF = totalDF.fillna(value=0)"
   ]
  },
  {
   "cell_type": "markdown",
   "metadata": {},
   "source": [
    "Assign the calculated feature values"
   ]
  },
  {
   "cell_type": "code",
   "execution_count": 28,
   "metadata": {
    "collapsed": true
   },
   "outputs": [],
   "source": [
    "totalDF['length of tweets'] = lenoftweet\n",
    "totalDF['corpus score'] = sentilist"
   ]
  },
  {
   "cell_type": "markdown",
   "metadata": {},
   "source": [
    "Drop the original \"text\" column and \"cleanedText\" column<br>\n",
    "Rename the \"class\" column to \"sentiment value\" to avoid any ambiguity that might occur in later stage (there could be a common word \"class\")"
   ]
  },
  {
   "cell_type": "code",
   "execution_count": 29,
   "metadata": {
    "collapsed": true
   },
   "outputs": [],
   "source": [
    "totalDF = totalDF.drop(['text'],axis=1)\n",
    "dataDF = totalDF.drop(['cleanedText'],axis=1)\n",
    "dataDF = dataDF.rename(columns = {'class':'sentiment value'})"
   ]
  },
  {
   "cell_type": "markdown",
   "metadata": {},
   "source": [
    "Get the most common 200 words in classified tweets"
   ]
  },
  {
   "cell_type": "code",
   "execution_count": 30,
   "metadata": {
    "collapsed": true
   },
   "outputs": [],
   "source": [
    "k = 200\n",
    "topklist = []\n",
    "\n",
    "alltweets = ''.join(newtext)\n",
    "tweets = alltweets.split()\n",
    "word_count = Counter(tweets)\n",
    "topklist = [word for word in word_count.most_common(k)]\n",
    "\n",
    "top200list = [i[0] for i in topklist]"
   ]
  },
  {
   "cell_type": "markdown",
   "metadata": {},
   "source": [
    "Add the most common words feature columns to dataDF dataframe and itialize them with 0s"
   ]
  },
  {
   "cell_type": "code",
   "execution_count": 31,
   "metadata": {
    "collapsed": true
   },
   "outputs": [],
   "source": [
    "add2 = pd.DataFrame(columns=top200list)\n",
    "dataDF = pd.concat([dataDF, add2])\n",
    "dataDF = dataDF.fillna(value=0)"
   ]
  },
  {
   "cell_type": "markdown",
   "metadata": {},
   "source": [
    "Calculate the frequency of each most common word for all tweets<br>\n",
    "Assign the calculated frequencies"
   ]
  },
  {
   "cell_type": "code",
   "execution_count": 32,
   "metadata": {
    "collapsed": true
   },
   "outputs": [],
   "source": [
    "#most common 200 word list - 'top200list'\n",
    "#classified tweets list - 'newtext'\n",
    "countN = 0 #intialize frequency counter\n",
    "countfreq = [] #list of word frequency for all tweets\n",
    "countfreq2d = [] #list of the above list\n",
    "\n",
    "for keyword in top200list:\n",
    "    for tweet in newtext:\n",
    "        eachword = tweet.split()\n",
    "        for each in eachword:\n",
    "            if keyword == each:\n",
    "                countN += 1\n",
    "        countfreq.append(countN)\n",
    "        countN = 0\n",
    "    countfreq2d.append(countfreq)\n",
    "    countfreq = []\n",
    "\n",
    "addcounter=0 #index to get the cell value from 2D list 'countfreq2d'\n",
    "for i in top200list:\n",
    "    dataDF[i]=countfreq2d[addcounter]\n",
    "    addcounter+=1"
   ]
  },
  {
   "cell_type": "markdown",
   "metadata": {},
   "source": [
    "Show top 5 rows of current classified dataframe dataDF"
   ]
  },
  {
   "cell_type": "code",
   "execution_count": 33,
   "metadata": {
    "scrolled": true
   },
   "outputs": [
    {
     "data": {
      "text/html": [
       "<div>\n",
       "<style>\n",
       "    .dataframe thead tr:only-child th {\n",
       "        text-align: right;\n",
       "    }\n",
       "\n",
       "    .dataframe thead th {\n",
       "        text-align: left;\n",
       "    }\n",
       "\n",
       "    .dataframe tbody tr th {\n",
       "        vertical-align: top;\n",
       "    }\n",
       "</style>\n",
       "<table border=\"1\" class=\"dataframe\">\n",
       "  <thead>\n",
       "    <tr style=\"text-align: right;\">\n",
       "      <th></th>\n",
       "      <th>amazing</th>\n",
       "      <th>awake</th>\n",
       "      <th>awesome</th>\n",
       "      <th>aww</th>\n",
       "      <th>baby</th>\n",
       "      <th>bad</th>\n",
       "      <th>beautiful</th>\n",
       "      <th>bed</th>\n",
       "      <th>best</th>\n",
       "      <th>better</th>\n",
       "      <th>...</th>\n",
       "      <th>work</th>\n",
       "      <th>working</th>\n",
       "      <th>wow</th>\n",
       "      <th>wrong</th>\n",
       "      <th>xx</th>\n",
       "      <th>ya</th>\n",
       "      <th>yay</th>\n",
       "      <th>yeah</th>\n",
       "      <th>year</th>\n",
       "      <th>yesterday</th>\n",
       "    </tr>\n",
       "  </thead>\n",
       "  <tbody>\n",
       "    <tr>\n",
       "      <th>0</th>\n",
       "      <td>0</td>\n",
       "      <td>0</td>\n",
       "      <td>0</td>\n",
       "      <td>0</td>\n",
       "      <td>0</td>\n",
       "      <td>0</td>\n",
       "      <td>0</td>\n",
       "      <td>0</td>\n",
       "      <td>0</td>\n",
       "      <td>0</td>\n",
       "      <td>...</td>\n",
       "      <td>0</td>\n",
       "      <td>0</td>\n",
       "      <td>0</td>\n",
       "      <td>0</td>\n",
       "      <td>0</td>\n",
       "      <td>0</td>\n",
       "      <td>0</td>\n",
       "      <td>0</td>\n",
       "      <td>0</td>\n",
       "      <td>0</td>\n",
       "    </tr>\n",
       "    <tr>\n",
       "      <th>1</th>\n",
       "      <td>0</td>\n",
       "      <td>0</td>\n",
       "      <td>0</td>\n",
       "      <td>0</td>\n",
       "      <td>0</td>\n",
       "      <td>0</td>\n",
       "      <td>0</td>\n",
       "      <td>0</td>\n",
       "      <td>0</td>\n",
       "      <td>0</td>\n",
       "      <td>...</td>\n",
       "      <td>0</td>\n",
       "      <td>0</td>\n",
       "      <td>0</td>\n",
       "      <td>0</td>\n",
       "      <td>0</td>\n",
       "      <td>0</td>\n",
       "      <td>0</td>\n",
       "      <td>0</td>\n",
       "      <td>0</td>\n",
       "      <td>0</td>\n",
       "    </tr>\n",
       "    <tr>\n",
       "      <th>2</th>\n",
       "      <td>0</td>\n",
       "      <td>0</td>\n",
       "      <td>0</td>\n",
       "      <td>0</td>\n",
       "      <td>0</td>\n",
       "      <td>0</td>\n",
       "      <td>0</td>\n",
       "      <td>0</td>\n",
       "      <td>0</td>\n",
       "      <td>0</td>\n",
       "      <td>...</td>\n",
       "      <td>0</td>\n",
       "      <td>0</td>\n",
       "      <td>0</td>\n",
       "      <td>0</td>\n",
       "      <td>0</td>\n",
       "      <td>0</td>\n",
       "      <td>0</td>\n",
       "      <td>0</td>\n",
       "      <td>0</td>\n",
       "      <td>0</td>\n",
       "    </tr>\n",
       "    <tr>\n",
       "      <th>3</th>\n",
       "      <td>0</td>\n",
       "      <td>0</td>\n",
       "      <td>0</td>\n",
       "      <td>0</td>\n",
       "      <td>0</td>\n",
       "      <td>0</td>\n",
       "      <td>0</td>\n",
       "      <td>0</td>\n",
       "      <td>0</td>\n",
       "      <td>0</td>\n",
       "      <td>...</td>\n",
       "      <td>0</td>\n",
       "      <td>0</td>\n",
       "      <td>0</td>\n",
       "      <td>0</td>\n",
       "      <td>0</td>\n",
       "      <td>0</td>\n",
       "      <td>0</td>\n",
       "      <td>0</td>\n",
       "      <td>0</td>\n",
       "      <td>0</td>\n",
       "    </tr>\n",
       "    <tr>\n",
       "      <th>4</th>\n",
       "      <td>0</td>\n",
       "      <td>0</td>\n",
       "      <td>0</td>\n",
       "      <td>0</td>\n",
       "      <td>0</td>\n",
       "      <td>0</td>\n",
       "      <td>0</td>\n",
       "      <td>0</td>\n",
       "      <td>0</td>\n",
       "      <td>0</td>\n",
       "      <td>...</td>\n",
       "      <td>0</td>\n",
       "      <td>0</td>\n",
       "      <td>0</td>\n",
       "      <td>0</td>\n",
       "      <td>0</td>\n",
       "      <td>0</td>\n",
       "      <td>0</td>\n",
       "      <td>0</td>\n",
       "      <td>0</td>\n",
       "      <td>0</td>\n",
       "    </tr>\n",
       "  </tbody>\n",
       "</table>\n",
       "<p>5 rows × 203 columns</p>\n",
       "</div>"
      ],
      "text/plain": [
       "   amazing  awake  awesome  aww  baby  bad  beautiful  bed  best  better  \\\n",
       "0        0      0        0    0     0    0          0    0     0       0   \n",
       "1        0      0        0    0     0    0          0    0     0       0   \n",
       "2        0      0        0    0     0    0          0    0     0       0   \n",
       "3        0      0        0    0     0    0          0    0     0       0   \n",
       "4        0      0        0    0     0    0          0    0     0       0   \n",
       "\n",
       "     ...      work  working  wow  wrong  xx  ya  yay  yeah  year  yesterday  \n",
       "0    ...         0        0    0      0   0   0    0     0     0          0  \n",
       "1    ...         0        0    0      0   0   0    0     0     0          0  \n",
       "2    ...         0        0    0      0   0   0    0     0     0          0  \n",
       "3    ...         0        0    0      0   0   0    0     0     0          0  \n",
       "4    ...         0        0    0      0   0   0    0     0     0          0  \n",
       "\n",
       "[5 rows x 203 columns]"
      ]
     },
     "execution_count": 33,
     "metadata": {},
     "output_type": "execute_result"
    }
   ],
   "source": [
    "dataDF.head()"
   ]
  },
  {
   "cell_type": "markdown",
   "metadata": {},
   "source": [
    "Dataframe dataDF now contains the columns needed for regression model: \n",
    "1. sentiment value\n",
    "2. length of tweet\n",
    "3. corpus score\n",
    "4. frequency of each most common 200 words"
   ]
  },
  {
   "cell_type": "markdown",
   "metadata": {},
   "source": [
    "#### Split Data\n",
    "We randomly split the data into training (70%) and test (30%) set."
   ]
  },
  {
   "cell_type": "code",
   "execution_count": 34,
   "metadata": {
    "collapsed": true
   },
   "outputs": [],
   "source": [
    "X = dataDF.drop(['sentiment value'],axis=1)\n",
    "y = dataDF['sentiment value']\n",
    "\n",
    "X_train, X_test, y_train, y_test = train_test_split(X, y, test_size=0.3)"
   ]
  },
  {
   "cell_type": "markdown",
   "metadata": {},
   "source": [
    "### 4. Model Implementation"
   ]
  },
  {
   "cell_type": "markdown",
   "metadata": {},
   "source": [
    "Now, we can train and fit a model into the training set that we created above."
   ]
  },
  {
   "cell_type": "code",
   "execution_count": 35,
   "metadata": {},
   "outputs": [
    {
     "data": {
      "text/plain": [
       "LogisticRegression(C=1.0, class_weight=None, dual=False, fit_intercept=True,\n",
       "          intercept_scaling=1, max_iter=100, multi_class='ovr', n_jobs=1,\n",
       "          penalty='l2', random_state=None, solver='liblinear', tol=0.0001,\n",
       "          verbose=0, warm_start=False)"
      ]
     },
     "execution_count": 35,
     "metadata": {},
     "output_type": "execute_result"
    }
   ],
   "source": [
    "model = LogisticRegression()    \n",
    "model.fit(X_train, y_train)"
   ]
  },
  {
   "cell_type": "markdown",
   "metadata": {},
   "source": [
    "#### Validate model and get accuracy rate\n",
    "Next, we make predictions using the model for the test data prepared above and get accuracy rate of the model."
   ]
  },
  {
   "cell_type": "code",
   "execution_count": 36,
   "metadata": {},
   "outputs": [
    {
     "name": "stdout",
     "output_type": "stream",
     "text": [
      "This model got an accuracy of 70.18% on the testing set\n"
     ]
    }
   ],
   "source": [
    "predictions = model.predict(X_test)\n",
    "    \n",
    "TN = confusion_matrix(y_test, predictions)[0][0]\n",
    "FP = confusion_matrix(y_test, predictions)[0][1]\n",
    "FN = confusion_matrix(y_test, predictions)[1][0]\n",
    "TP = confusion_matrix(y_test, predictions)[1][1]\n",
    "total = TN + FP + FN + TP\n",
    "ACC = (TP + TN) / float(total)\n",
    "\n",
    "print (\"This model got an accuracy of {}% on the testing set\".format(round(ACC*100,2)))  "
   ]
  },
  {
   "cell_type": "markdown",
   "metadata": {},
   "source": [
    "#### Evaluate model with unclassified data\n",
    "Before evaluating the unclassified data, we need to convert the unclassified tweets into the same data format as the classified tweets.\n",
    "- As the unclassified data is already cleaned in step 1, we just load the data into a dataframe\n",
    "- Then add columns for \"length of tweets\" and \"corpus score\"\n",
    "- Also add columns for top 200 most common words\n",
    "- After adding the columns, calculate the feature values accordingly"
   ]
  },
  {
   "cell_type": "code",
   "execution_count": 37,
   "metadata": {
    "collapsed": true
   },
   "outputs": [],
   "source": [
    "unclassifiedData = pd.read_csv(\"unclassified_tweets.txt\", header=None)"
   ]
  },
  {
   "cell_type": "markdown",
   "metadata": {},
   "source": [
    "Add the column name \"cleanText\"<br>\n",
    "Remove all single quote from the tweets (one more cleaning step before applying the model)"
   ]
  },
  {
   "cell_type": "code",
   "execution_count": 38,
   "metadata": {
    "collapsed": true
   },
   "outputs": [],
   "source": [
    "unclassifiedData.columns = ['cleanText']\n",
    "temptext = unclassifiedData['cleanText'].tolist() #convert the dataframe column to a temporary list\n",
    "punclist = [\"'\",\"`\",\"’\"] #different forms of single quotes to remove\n",
    "newtext_un = [] #the final list to store unclassified tweets\n",
    "\n",
    "for line in temptext:\n",
    "    lineReplace = line\n",
    "    for i in punclist:\n",
    "        lineReplace = lineReplace.replace(i,'')\n",
    "    newtext_un.append(lineReplace)"
   ]
  },
  {
   "cell_type": "markdown",
   "metadata": {},
   "source": [
    "Assign the tweets list to \"cleanText\" column"
   ]
  },
  {
   "cell_type": "code",
   "execution_count": 39,
   "metadata": {
    "collapsed": true
   },
   "outputs": [],
   "source": [
    "unclassifiedData['cleanText']=newtext_un"
   ]
  },
  {
   "cell_type": "markdown",
   "metadata": {},
   "source": [
    "Get length of tweets"
   ]
  },
  {
   "cell_type": "code",
   "execution_count": 40,
   "metadata": {
    "collapsed": true
   },
   "outputs": [],
   "source": [
    "lenoftweet_un = []\n",
    "for i in newtext_un:\n",
    "    lennum = len(i)\n",
    "    lenoftweet_un.append(lennum)"
   ]
  },
  {
   "cell_type": "markdown",
   "metadata": {},
   "source": [
    "Calculate corpus score"
   ]
  },
  {
   "cell_type": "code",
   "execution_count": 41,
   "metadata": {
    "collapsed": true
   },
   "outputs": [],
   "source": [
    "sentilist_un = []\n",
    "senti_un = 0\n",
    "\n",
    "for tweet in newtext_un:\n",
    "    eachword = tweet.split()\n",
    "    for each in eachword:\n",
    "        for keyword in corpuslist:\n",
    "            if each == keyword:\n",
    "                senti_un = senti_un + scorelist[corpuslist.index(keyword)]\n",
    "    sentilist_un.append(senti_un)\n",
    "    senti_un = 0"
   ]
  },
  {
   "cell_type": "markdown",
   "metadata": {},
   "source": [
    "Add the two feature columns (length of tweets, corpus score) to unclassifiedData dataframe and intialize with 0s"
   ]
  },
  {
   "cell_type": "code",
   "execution_count": 42,
   "metadata": {
    "collapsed": true
   },
   "outputs": [],
   "source": [
    "#THE 'add' dataframe (columns of 'length of tweets' and 'corpus score') has been created in the previous step\n",
    "\n",
    "dataDF_un = pd.concat([unclassifiedData, add])\n",
    "dataDF_un = dataDF_un.fillna(value=0)"
   ]
  },
  {
   "cell_type": "markdown",
   "metadata": {
    "collapsed": true
   },
   "source": [
    "Assign the calculated feature values"
   ]
  },
  {
   "cell_type": "code",
   "execution_count": 43,
   "metadata": {
    "collapsed": true
   },
   "outputs": [],
   "source": [
    "dataDF_un['length of tweets'] = lenoftweet_un\n",
    "dataDF_un['corpus score'] = sentilist_un"
   ]
  },
  {
   "cell_type": "markdown",
   "metadata": {},
   "source": [
    "Drop the \"cleanText\" column"
   ]
  },
  {
   "cell_type": "code",
   "execution_count": 44,
   "metadata": {
    "collapsed": true
   },
   "outputs": [],
   "source": [
    "dataDF_un = dataDF_un.drop(['cleanText'],axis=1)"
   ]
  },
  {
   "cell_type": "markdown",
   "metadata": {},
   "source": [
    "Add the most common words feature columns to dataDF_un dataframe and itialize them with 0s"
   ]
  },
  {
   "cell_type": "code",
   "execution_count": 45,
   "metadata": {
    "collapsed": true
   },
   "outputs": [],
   "source": [
    "#THE 'add2' dataframe (columns of most common 200 words) has been created in the previous step\n",
    "\n",
    "dataDF_un = pd.concat([dataDF_un, add2])\n",
    "dataDF_un = dataDF_un.fillna(value=0)"
   ]
  },
  {
   "cell_type": "markdown",
   "metadata": {},
   "source": [
    "Calculate the frequency of each most common word for all tweets<br>\n",
    "Assign the calculated frequencies"
   ]
  },
  {
   "cell_type": "code",
   "execution_count": 47,
   "metadata": {
    "collapsed": true
   },
   "outputs": [],
   "source": [
    "#most common 200 word list - top200list\n",
    "#unclassified tweets list - newtext_un\n",
    "countN_un = 0 #intialize frequency counter\n",
    "countfreq_un = [] #list of word frequency for all tweets\n",
    "countfreq2d_un = [] #list of the above list\n",
    "\n",
    "for keyword in top200list:\n",
    "    for tweet in newtext_un:\n",
    "        eachword = tweet.split()\n",
    "        for each in eachword:\n",
    "            if keyword == each:\n",
    "                countN_un += 1\n",
    "        countfreq_un.append(countN_un)\n",
    "        countN_un = 0\n",
    "    countfreq2d_un.append(countfreq_un)\n",
    "    countfreq_un = []\n",
    "\n",
    "addcounter_un=0 #index to get the cell value from 2D list 'countfreq2d_un'\n",
    "for i in top200list:\n",
    "    dataDF_un[i]=countfreq2d_un[addcounter_un]\n",
    "    addcounter_un+=1"
   ]
  },
  {
   "cell_type": "markdown",
   "metadata": {},
   "source": [
    "Now we have prepared the feature values for the regression model.<br>\n",
    "Before evaluating the model using unclassified data, we need one more pre-procssing of the unclassifed tweets:\n",
    "- For each unclassified tweet, we will assign a party label to it: 'liberal', 'conservative', 'ndp', or 'others' (including mixed and not_related)\n",
    "- As we will only be analyzing the tweets realted to single political party, we will treat the mixed and not related tweets both as others"
   ]
  },
  {
   "cell_type": "code",
   "execution_count": 48,
   "metadata": {
    "collapsed": true
   },
   "outputs": [],
   "source": [
    "politicallabel = [] #intialize label list for each tweet\n",
    "\n",
    "for line in newtext_un:\n",
    "    #initialize counter for each party\n",
    "    liberal_n = 0\n",
    "    conservative_n = 0\n",
    "    ndp_n = 0\n",
    "    \n",
    "    #loop through all liberal keywords and count how many of these words are included in each tweet\n",
    "    for i in kw_liberal:\n",
    "        if line.find(i) == -1:\n",
    "            continue\n",
    "        else:\n",
    "            liberal_n += 1\n",
    "    \n",
    "    #same loop for conservative keywords\n",
    "    for j in kw_conservative:\n",
    "        if line.find(j) == -1:\n",
    "            continue\n",
    "        else:\n",
    "            conservative_n += 1\n",
    "    \n",
    "    #same loop for ndp keywords\n",
    "    for k in kw_ndp:\n",
    "        if line.find(k) == -1:\n",
    "            continue\n",
    "        else:\n",
    "            ndp_n += 1\n",
    "    \n",
    "    #nested if statements to determine if a tweet is only about one party and assign label accordingly\n",
    "    if liberal_n > 0 and conservative_n == 0 and ndp_n == 0:\n",
    "        politicallabel.append('liberal')\n",
    "    elif conservative_n >0 and liberal_n == 0 and ndp_n == 0:\n",
    "        politicallabel.append('conservative')\n",
    "    elif ndp_n >0 and liberal_n == 0 and conservative_n == 0:\n",
    "        politicallabel.append('ndp')\n",
    "    else:\n",
    "        politicallabel.append('others')"
   ]
  },
  {
   "cell_type": "markdown",
   "metadata": {},
   "source": [
    "After calculating all needed feature values and political labels, we now proceed with evaluating the model using unclassified twitter data."
   ]
  },
  {
   "cell_type": "code",
   "execution_count": 49,
   "metadata": {
    "collapsed": true
   },
   "outputs": [],
   "source": [
    "predictions = model.predict(dataDF_un)\n",
    "\n",
    "#create the result dataframe\n",
    "resultDF = pd.DataFrame(columns=['cleantext','political label'])\n",
    "resultDF['cleantext']=newtext_un\n",
    "resultDF['political label']=politicallabel\n",
    "resultDF['sentiment value'] = pd.Series(predictions)"
   ]
  },
  {
   "cell_type": "markdown",
   "metadata": {},
   "source": [
    "Remove the rows with 'others' label from result dataframe as these tweets will not be used in discussion."
   ]
  },
  {
   "cell_type": "code",
   "execution_count": 50,
   "metadata": {
    "collapsed": true
   },
   "outputs": [],
   "source": [
    "plotDF = resultDF[resultDF['political label'] != 'others']"
   ]
  },
  {
   "cell_type": "markdown",
   "metadata": {},
   "source": [
    "Plot a bar chart to show distribution of positive and negative sentiment value for each party."
   ]
  },
  {
   "cell_type": "code",
   "execution_count": 51,
   "metadata": {
    "scrolled": true
   },
   "outputs": [
    {
     "data": {
      "text/plain": [
       "<matplotlib.axes._subplots.AxesSubplot at 0x1a2e89f3c8>"
      ]
     },
     "execution_count": 51,
     "metadata": {},
     "output_type": "execute_result"
    },
    {
     "data": {
      "image/png": "[encoded data removed]",
      "text/plain": [
       "<matplotlib.figure.Figure at 0x1a26b237b8>"
      ]
     },
     "metadata": {},
     "output_type": "display_data"
    }
   ],
   "source": [
    "sns.countplot(x='political label', hue = 'sentiment value', data=plotDF)"
   ]
  },
  {
   "cell_type": "markdown",
   "metadata": {},
   "source": [
    "## 5. Discussion\n",
    "\n",
    "Based on the analysis, we first plot some charts to display the result."
   ]
  },
  {
   "cell_type": "code",
   "execution_count": 52,
   "metadata": {},
   "outputs": [
    {
     "data": {
      "text/html": [
       "<div>\n",
       "<style>\n",
       "    .dataframe thead tr:only-child th {\n",
       "        text-align: right;\n",
       "    }\n",
       "\n",
       "    .dataframe thead th {\n",
       "        text-align: left;\n",
       "    }\n",
       "\n",
       "    .dataframe tbody tr th {\n",
       "        vertical-align: top;\n",
       "    }\n",
       "</style>\n",
       "<table border=\"1\" class=\"dataframe\">\n",
       "  <thead>\n",
       "    <tr style=\"text-align: right;\">\n",
       "      <th></th>\n",
       "      <th>cleantext</th>\n",
       "      <th>political label</th>\n",
       "      <th>sentiment value</th>\n",
       "    </tr>\n",
       "  </thead>\n",
       "  <tbody>\n",
       "    <tr>\n",
       "      <th>0</th>\n",
       "      <td>living dream cameraman camera cameraception ca...</td>\n",
       "      <td>ndp</td>\n",
       "      <td>4.0</td>\n",
       "    </tr>\n",
       "    <tr>\n",
       "      <th>1</th>\n",
       "      <td>justin trudeaus reasons thanksgiving todays mo...</td>\n",
       "      <td>liberal</td>\n",
       "      <td>4.0</td>\n",
       "    </tr>\n",
       "    <tr>\n",
       "      <th>6</th>\n",
       "      <td>harper $8m help countries wing govts elected c...</td>\n",
       "      <td>conservative</td>\n",
       "      <td>4.0</td>\n",
       "    </tr>\n",
       "    <tr>\n",
       "      <th>7</th>\n",
       "      <td>tommy taylor</td>\n",
       "      <td>ndp</td>\n",
       "      <td>4.0</td>\n",
       "    </tr>\n",
       "    <tr>\n",
       "      <th>10</th>\n",
       "      <td>icymi lylegreg predicting liberal_party win oc...</td>\n",
       "      <td>liberal</td>\n",
       "      <td>4.0</td>\n",
       "    </tr>\n",
       "  </tbody>\n",
       "</table>\n",
       "</div>"
      ],
      "text/plain": [
       "                                            cleantext political label  \\\n",
       "0   living dream cameraman camera cameraception ca...             ndp   \n",
       "1   justin trudeaus reasons thanksgiving todays mo...         liberal   \n",
       "6   harper $8m help countries wing govts elected c...    conservative   \n",
       "7                                       tommy taylor              ndp   \n",
       "10  icymi lylegreg predicting liberal_party win oc...         liberal   \n",
       "\n",
       "    sentiment value  \n",
       "0               4.0  \n",
       "1               4.0  \n",
       "6               4.0  \n",
       "7               4.0  \n",
       "10              4.0  "
      ]
     },
     "execution_count": 52,
     "metadata": {},
     "output_type": "execute_result"
    }
   ],
   "source": [
    "plotDF.head()"
   ]
  },
  {
   "cell_type": "markdown",
   "metadata": {},
   "source": [
    "Create three sub-lists for each of the major party based on their political label"
   ]
  },
  {
   "cell_type": "code",
   "execution_count": 53,
   "metadata": {
    "collapsed": true
   },
   "outputs": [],
   "source": [
    "plot_l = plotDF[plotDF['political label'] == 'liberal']\n",
    "plot_c = plotDF[plotDF['political label'] == 'conservative']\n",
    "plot_n = plotDF[plotDF['political label'] == 'ndp']"
   ]
  },
  {
   "cell_type": "markdown",
   "metadata": {},
   "source": [
    "Plot a pie chart to show the percentage distribution of three parties (the total number of tweets only including those that mentioning single party)"
   ]
  },
  {
   "cell_type": "code",
   "execution_count": 54,
   "metadata": {
    "scrolled": true
   },
   "outputs": [
    {
     "data": {
      "image/png": "[encoded data removed]",
      "text/plain": [
       "<matplotlib.figure.Figure at 0x1a2eacc358>"
      ]
     },
     "metadata": {},
     "output_type": "display_data"
    }
   ],
   "source": [
    "plt.figure(2)\n",
    "party_label = [\"Liberal\",\"Conservative\",\"NDP\"]\n",
    "party_sum = [(plotDF['political label'] == 'liberal').sum(), (plotDF['political label'] == 'conservative').sum(),(plotDF['political label'] == 'ndp').sum()]\n",
    "\n",
    "plt.axis(\"equal\")\n",
    "plt.pie(party_sum, labels=party_label, autopct=\"%1.1f%%\")\n",
    "plt.title(\"Mentioned Tweets Distribution for Three Major Parties\")\n",
    "\n",
    "plt.show()"
   ]
  },
  {
   "cell_type": "markdown",
   "metadata": {},
   "source": [
    "Plot three pie charts to show the distribution of positive and negative sentiment value for each party"
   ]
  },
  {
   "cell_type": "code",
   "execution_count": 55,
   "metadata": {},
   "outputs": [
    {
     "data": {
      "image/png": "[encoded data removed]",
      "text/plain": [
       "<matplotlib.figure.Figure at 0x1a2eb2d0f0>"
      ]
     },
     "metadata": {},
     "output_type": "display_data"
    },
    {
     "data": {
      "image/png": "[encoded data removed]",
      "text/plain": [
       "<matplotlib.figure.Figure at 0x1a2eb336a0>"
      ]
     },
     "metadata": {},
     "output_type": "display_data"
    },
    {
     "data": {
      "image/png": "[encoded data removed]",
      "text/plain": [
       "<matplotlib.figure.Figure at 0x1a70868320>"
      ]
     },
     "metadata": {},
     "output_type": "display_data"
    }
   ],
   "source": [
    "plt.figure(3)\n",
    "senti_label = [\"Negative\",\"Positive\"]\n",
    "senti_l = [(plot_l['sentiment value'] == 0).sum(), (plot_l['sentiment value'] == 4).sum()]\n",
    "\n",
    "plt.axis(\"equal\")\n",
    "plt.pie(senti_l, labels=senti_label, autopct=\"%1.1f%%\")\n",
    "plt.title(\"Sentiment Distribution for Liberal Party\")\n",
    "\n",
    "#--------------------------------------------------------\n",
    "plt.figure(4)\n",
    "senti_c = [(plot_c['sentiment value'] == 0).sum(), (plot_c['sentiment value'] == 4).sum()]\n",
    "\n",
    "plt.axis(\"equal\")\n",
    "plt.pie(senti_c, labels=senti_label, autopct=\"%1.1f%%\")\n",
    "plt.title(\"Sentiment Distribution for Conservative Party\")\n",
    "\n",
    "#--------------------------------------------------------\n",
    "plt.figure(5)\n",
    "senti_n = [(plot_n['sentiment value'] == 0).sum(), (plot_n['sentiment value'] == 4).sum()]\n",
    "\n",
    "plt.axis(\"equal\")\n",
    "plt.pie(senti_n, labels=senti_label, autopct=\"%1.1f%%\")\n",
    "plt.title(\"Sentiment Distribution for NDP\")\n",
    "\n",
    "plt.show()"
   ]
  },
  {
   "cell_type": "markdown",
   "metadata": {},
   "source": [
    "#### Question of the Project:\n",
    "#### What can public opinion on Twitter tell us about the Canadian political landscape in 2015?\n",
    "As the results showing above, we can get the following **conclusions**:\n",
    "- There are about the same number of tweets mentioning liberal and conservative party, while relatively less number of tweets mentioning NDP.\n",
    "- Out of the total tweets that mentioning single political party (the tweet is about just one party), there are 40% for **liberal**, 39% for **conservative** and 21% for **NDP**\n",
    "- NDP has the highest positive attitude rate; conservative party has the lowest positive attitude rate\n",
    "- For **liberal**, 79% of population (tweets) has positive sentiments\n",
    "- For **conservative**, 74% of population has positive sentiments\n",
    "- For **NDP**, 87% of population has positive sentiments\n",
    "\n",
    "From the tweets analysis, we can conclude the following **public opinions on the Canadian political landscape in 2015**:\n",
    "* A little more then half (55%) of the public who posted on twitter are expressing their attitudes towards the three major political parties\n",
    "* For people who are discussing about the major political parties, some are discussing about multiple parties, but 75% of the tweets are only about one party.\n",
    "* In terms of the amount of the discussion, liberal and conservative parties have a similar popularity within the public, while NDP is less popular than these two parties.\n",
    "* As for the public attitude of the three major parties, NDP has the highest positive rate and conservative has the lowest positive rate.\n",
    "\n",
    "The above conclusions of public opinion about the three major parties seem to match the actual election outcome. Liberal party has the highest popularity among public and relatively low negative rate, which leaded to the highest number of votes.\n"
   ]
  },
  {
   "cell_type": "code",
   "execution_count": null,
   "metadata": {
    "collapsed": true
   },
   "outputs": [],
   "source": []
  }
 ],
 "metadata": {
  "kernelspec": {
   "display_name": "Python 3",
   "language": "python",
   "name": "python3"
  },
  "language_info": {
   "codemirror_mode": {
    "name": "ipython",
    "version": 3
   },
   "file_extension": ".py",
   "mimetype": "text/x-python",
   "name": "python",
   "nbconvert_exporter": "python",
   "pygments_lexer": "ipython3",
   "version": "3.6.3"
  }
 },
 "nbformat": 4,
 "nbformat_minor": 2
}
