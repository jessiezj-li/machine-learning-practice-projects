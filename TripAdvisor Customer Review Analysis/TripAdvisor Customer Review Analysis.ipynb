{
 "cells": [
  {
   "cell_type": "markdown",
   "metadata": {},
   "source": [
    "# TripAdvisor Customer Review Analysis"
   ]
  },
  {
   "cell_type": "markdown",
   "metadata": {},
   "source": [
    "## Import Libraries and Packages used for the analysis"
   ]
  },
  {
   "cell_type": "code",
   "execution_count": 1,
   "metadata": {},
   "outputs": [
    {
     "name": "stdout",
     "output_type": "stream",
     "text": [
      "3.7.3 (default, Mar 27 2019, 16:54:48) \n",
      "[Clang 4.0.1 (tags/RELEASE_401/final)]\n"
     ]
    }
   ],
   "source": [
    "import sys\n",
    "print(sys.version)"
   ]
  },
  {
   "cell_type": "code",
   "execution_count": 2,
   "metadata": {},
   "outputs": [
    {
     "name": "stderr",
     "output_type": "stream",
     "text": [
      "[nltk_data] Downloading package vader_lexicon to\n",
      "[nltk_data]     /Users/zhuojun/nltk_data...\n",
      "[nltk_data]   Package vader_lexicon is already up-to-date!\n",
      "[nltk_data] Downloading package stopwords to\n",
      "[nltk_data]     /Users/zhuojun/nltk_data...\n",
      "[nltk_data]   Package stopwords is already up-to-date!\n",
      "[nltk_data] Downloading package averaged_perceptron_tagger to\n",
      "[nltk_data]     /Users/zhuojun/nltk_data...\n",
      "[nltk_data]   Package averaged_perceptron_tagger is already up-to-\n",
      "[nltk_data]       date!\n",
      "[nltk_data] Downloading package wordnet to /Users/zhuojun/nltk_data...\n",
      "[nltk_data]   Package wordnet is already up-to-date!\n"
     ]
    }
   ],
   "source": [
    "#Plot\n",
    "import matplotlib.pyplot as plt\n",
    "import seaborn as sns\n",
    "%matplotlib inline\n",
    "\n",
    "#Data Packages\n",
    "import math\n",
    "import pandas\n",
    "import numpy as np\n",
    "\n",
    "#Progress bar\n",
    "from tqdm import tqdm\n",
    "\n",
    "#Counter\n",
    "from collections import Counter\n",
    "\n",
    "#Operation\n",
    "import operator\n",
    "\n",
    "#Natural Language Processing Packages\n",
    "import re\n",
    "import nltk\n",
    "\n",
    "## Download Resources\n",
    "nltk.download(\"vader_lexicon\")\n",
    "nltk.download(\"stopwords\")\n",
    "nltk.download(\"averaged_perceptron_tagger\")\n",
    "nltk.download(\"wordnet\")\n",
    "\n",
    "from nltk.sentiment import SentimentAnalyzer\n",
    "from nltk.sentiment.vader import SentimentIntensityAnalyzer\n",
    "from nltk.sentiment.util import *\n",
    "from nltk import tokenize\n",
    "from nltk.tokenize import RegexpTokenizer\n",
    "from nltk.corpus import stopwords\n",
    "from nltk.tag import PerceptronTagger\n",
    "from nltk.data import find\n",
    "\n",
    "## Machine Learning\n",
    "import sklearn\n",
    "import sklearn.metrics as metrics"
   ]
  },
  {
   "cell_type": "markdown",
   "metadata": {},
   "source": [
    "## Data Prepreation\n",
    "We first crawl the customer review data for hotels in Markham from TripAdvisor and parse the data into a csv file for easier manipulation.\n",
    "\n",
    "-crawler used: https://github.com/aesuli/trip-advisor-crawler\n",
    "\n",
    "-crawling commend: $python3 trip−advisor−crawler .py −o data ca:181720\n",
    "\n",
    "-parsing commend: $python3 trip−advisor−parser.py −d data −o markham.csv\n",
    "\n",
    "We then load the data into a dataframe.\n"
   ]
  },
  {
   "cell_type": "code",
   "execution_count": 3,
   "metadata": {},
   "outputs": [],
   "source": [
    "#Read data from pandas\n",
    "hotelDF = pandas.read_csv('markham.csv')\n",
    "hotelDF.columns=['idNum','filePath','hotelName','reviewColumn','ratingScore','groundTruth']"
   ]
  },
  {
   "cell_type": "code",
   "execution_count": 4,
   "metadata": {},
   "outputs": [
    {
     "data": {
      "text/html": [
       "<div>\n",
       "<style scoped>\n",
       "    .dataframe tbody tr th:only-of-type {\n",
       "        vertical-align: middle;\n",
       "    }\n",
       "\n",
       "    .dataframe tbody tr th {\n",
       "        vertical-align: top;\n",
       "    }\n",
       "\n",
       "    .dataframe thead th {\n",
       "        text-align: right;\n",
       "    }\n",
       "</style>\n",
       "<table border=\"1\" class=\"dataframe\">\n",
       "  <thead>\n",
       "    <tr style=\"text-align: right;\">\n",
       "      <th></th>\n",
       "      <th>idNum</th>\n",
       "      <th>filePath</th>\n",
       "      <th>hotelName</th>\n",
       "      <th>reviewColumn</th>\n",
       "      <th>ratingScore</th>\n",
       "      <th>groundTruth</th>\n",
       "    </tr>\n",
       "  </thead>\n",
       "  <tbody>\n",
       "    <tr>\n",
       "      <th>0</th>\n",
       "      <td>86280330</td>\n",
       "      <td>markham\\ca\\181720\\181948\\107186787.html</td>\n",
       "      <td>Staybridge Suites Toronto</td>\n",
       "      <td>my husband and i stayed there for 9 nights as ...</td>\n",
       "      <td>4</td>\n",
       "      <td>positive</td>\n",
       "    </tr>\n",
       "    <tr>\n",
       "      <th>1</th>\n",
       "      <td>85071982</td>\n",
       "      <td>markham\\ca\\181720\\181948\\107186787.html</td>\n",
       "      <td>Staybridge Suites Toronto</td>\n",
       "      <td>Our stay was not the worst I've ever stayed in...</td>\n",
       "      <td>3</td>\n",
       "      <td>negative</td>\n",
       "    </tr>\n",
       "    <tr>\n",
       "      <th>2</th>\n",
       "      <td>79574338</td>\n",
       "      <td>markham\\ca\\181720\\181948\\107186787.html</td>\n",
       "      <td>Staybridge Suites Toronto</td>\n",
       "      <td>I stayed here during a weeknight in July with ...</td>\n",
       "      <td>3</td>\n",
       "      <td>negative</td>\n",
       "    </tr>\n",
       "    <tr>\n",
       "      <th>3</th>\n",
       "      <td>78931757</td>\n",
       "      <td>markham\\ca\\181720\\181948\\107186787.html</td>\n",
       "      <td>Staybridge Suites Toronto</td>\n",
       "      <td>Spent 5 weeks here while my home was prepped -...</td>\n",
       "      <td>5</td>\n",
       "      <td>positive</td>\n",
       "    </tr>\n",
       "    <tr>\n",
       "      <th>4</th>\n",
       "      <td>78277874</td>\n",
       "      <td>markham\\ca\\181720\\181948\\107186787.html</td>\n",
       "      <td>Staybridge Suites Toronto</td>\n",
       "      <td>My family booked this hotel and at first we we...</td>\n",
       "      <td>5</td>\n",
       "      <td>positive</td>\n",
       "    </tr>\n",
       "  </tbody>\n",
       "</table>\n",
       "</div>"
      ],
      "text/plain": [
       "      idNum                                 filePath  \\\n",
       "0  86280330  markham\\ca\\181720\\181948\\107186787.html   \n",
       "1  85071982  markham\\ca\\181720\\181948\\107186787.html   \n",
       "2  79574338  markham\\ca\\181720\\181948\\107186787.html   \n",
       "3  78931757  markham\\ca\\181720\\181948\\107186787.html   \n",
       "4  78277874  markham\\ca\\181720\\181948\\107186787.html   \n",
       "\n",
       "                   hotelName  \\\n",
       "0  Staybridge Suites Toronto   \n",
       "1  Staybridge Suites Toronto   \n",
       "2  Staybridge Suites Toronto   \n",
       "3  Staybridge Suites Toronto   \n",
       "4  Staybridge Suites Toronto   \n",
       "\n",
       "                                        reviewColumn  ratingScore groundTruth  \n",
       "0  my husband and i stayed there for 9 nights as ...            4    positive  \n",
       "1  Our stay was not the worst I've ever stayed in...            3    negative  \n",
       "2  I stayed here during a weeknight in July with ...            3    negative  \n",
       "3  Spent 5 weeks here while my home was prepped -...            5    positive  \n",
       "4  My family booked this hotel and at first we we...            5    positive  "
      ]
     },
     "execution_count": 4,
     "metadata": {},
     "output_type": "execute_result"
    }
   ],
   "source": [
    "hotelDF.head()"
   ]
  },
  {
   "cell_type": "markdown",
   "metadata": {},
   "source": [
    "## Sentiment Analysis\n",
    "After loading the data, we calculate the sentiment value for each review using the VADER.<br>\n",
    "We then perform analysis on hotel ranking."
   ]
  },
  {
   "cell_type": "code",
   "execution_count": 5,
   "metadata": {},
   "outputs": [],
   "source": [
    "# Fist define the function used for sentiment calculation\n",
    "# Use vader to evaluated sentiment of reviews\n",
    "def evalSentences(reviews, to_df=False, columns=[]):\n",
    "    #Instantiate an instance to access SentimentIntensityAnalyzer class\n",
    "    sid = SentimentIntensityAnalyzer()\n",
    "    pdlist = []\n",
    "    if to_df:\n",
    "        for review in tqdm(reviews):\n",
    "            ss = sid.polarity_scores(review)\n",
    "            pdlist.append([review]+[ss['compound']])\n",
    "        reviewDf = pandas.DataFrame(pdlist)\n",
    "        reviewDf.columns = columns\n",
    "        return reviewDf\n",
    "    \n",
    "    else:\n",
    "        for review in tqdm(reviews):\n",
    "            print(review)\n",
    "            ss = sid.polarity_scores(review)\n",
    "            for k in sorted(ss):\n",
    "                print('{0}: {1}, '.format(k, ss[k]), end='')\n",
    "            print()"
   ]
  },
  {
   "cell_type": "code",
   "execution_count": 6,
   "metadata": {},
   "outputs": [
    {
     "name": "stderr",
     "output_type": "stream",
     "text": [
      "100%|██████████| 3894/3894 [00:06<00:00, 574.23it/s]\n"
     ]
    }
   ],
   "source": [
    "# Calculate sentiment value for the reviews\n",
    "reviews = hotelDF['reviewColumn'].values\n",
    "reviewDF = evalSentences(reviews, to_df=True, columns=['reviewCol','vaderScore'])"
   ]
  },
  {
   "cell_type": "code",
   "execution_count": 7,
   "metadata": {},
   "outputs": [
    {
     "data": {
      "text/html": [
       "<div>\n",
       "<style scoped>\n",
       "    .dataframe tbody tr th:only-of-type {\n",
       "        vertical-align: middle;\n",
       "    }\n",
       "\n",
       "    .dataframe tbody tr th {\n",
       "        vertical-align: top;\n",
       "    }\n",
       "\n",
       "    .dataframe thead th {\n",
       "        text-align: right;\n",
       "    }\n",
       "</style>\n",
       "<table border=\"1\" class=\"dataframe\">\n",
       "  <thead>\n",
       "    <tr style=\"text-align: right;\">\n",
       "      <th></th>\n",
       "      <th>reviewCol</th>\n",
       "      <th>vaderScore</th>\n",
       "    </tr>\n",
       "  </thead>\n",
       "  <tbody>\n",
       "    <tr>\n",
       "      <th>0</th>\n",
       "      <td>my husband and i stayed there for 9 nights as ...</td>\n",
       "      <td>0.9731</td>\n",
       "    </tr>\n",
       "    <tr>\n",
       "      <th>1</th>\n",
       "      <td>Our stay was not the worst I've ever stayed in...</td>\n",
       "      <td>-0.2973</td>\n",
       "    </tr>\n",
       "    <tr>\n",
       "      <th>2</th>\n",
       "      <td>I stayed here during a weeknight in July with ...</td>\n",
       "      <td>-0.6042</td>\n",
       "    </tr>\n",
       "    <tr>\n",
       "      <th>3</th>\n",
       "      <td>Spent 5 weeks here while my home was prepped -...</td>\n",
       "      <td>0.9537</td>\n",
       "    </tr>\n",
       "    <tr>\n",
       "      <th>4</th>\n",
       "      <td>My family booked this hotel and at first we we...</td>\n",
       "      <td>0.9985</td>\n",
       "    </tr>\n",
       "  </tbody>\n",
       "</table>\n",
       "</div>"
      ],
      "text/plain": [
       "                                           reviewCol  vaderScore\n",
       "0  my husband and i stayed there for 9 nights as ...      0.9731\n",
       "1  Our stay was not the worst I've ever stayed in...     -0.2973\n",
       "2  I stayed here during a weeknight in July with ...     -0.6042\n",
       "3  Spent 5 weeks here while my home was prepped -...      0.9537\n",
       "4  My family booked this hotel and at first we we...      0.9985"
      ]
     },
     "execution_count": 7,
     "metadata": {},
     "output_type": "execute_result"
    }
   ],
   "source": [
    "reviewDF.head()"
   ]
  },
  {
   "cell_type": "markdown",
   "metadata": {},
   "source": [
    "After calculating the sentiment values, we rank the hotel by average rating score and sentiment score"
   ]
  },
  {
   "cell_type": "code",
   "execution_count": 8,
   "metadata": {},
   "outputs": [],
   "source": [
    "analyzeDF = hotelDF.drop(['filePath'], axis=1,)\n",
    "vaderlist = reviewDF['vaderScore']\n",
    "analyzeDF['vaderScore'] = vaderlist"
   ]
  },
  {
   "cell_type": "code",
   "execution_count": 9,
   "metadata": {
    "scrolled": true
   },
   "outputs": [
    {
     "data": {
      "text/html": [
       "<div>\n",
       "<style scoped>\n",
       "    .dataframe tbody tr th:only-of-type {\n",
       "        vertical-align: middle;\n",
       "    }\n",
       "\n",
       "    .dataframe tbody tr th {\n",
       "        vertical-align: top;\n",
       "    }\n",
       "\n",
       "    .dataframe thead th {\n",
       "        text-align: right;\n",
       "    }\n",
       "</style>\n",
       "<table border=\"1\" class=\"dataframe\">\n",
       "  <thead>\n",
       "    <tr style=\"text-align: right;\">\n",
       "      <th></th>\n",
       "      <th>idNum</th>\n",
       "      <th>hotelName</th>\n",
       "      <th>reviewColumn</th>\n",
       "      <th>ratingScore</th>\n",
       "      <th>groundTruth</th>\n",
       "      <th>vaderScore</th>\n",
       "    </tr>\n",
       "  </thead>\n",
       "  <tbody>\n",
       "    <tr>\n",
       "      <th>0</th>\n",
       "      <td>86280330</td>\n",
       "      <td>Staybridge Suites Toronto</td>\n",
       "      <td>my husband and i stayed there for 9 nights as ...</td>\n",
       "      <td>4</td>\n",
       "      <td>positive</td>\n",
       "      <td>0.9731</td>\n",
       "    </tr>\n",
       "    <tr>\n",
       "      <th>1</th>\n",
       "      <td>85071982</td>\n",
       "      <td>Staybridge Suites Toronto</td>\n",
       "      <td>Our stay was not the worst I've ever stayed in...</td>\n",
       "      <td>3</td>\n",
       "      <td>negative</td>\n",
       "      <td>-0.2973</td>\n",
       "    </tr>\n",
       "    <tr>\n",
       "      <th>2</th>\n",
       "      <td>79574338</td>\n",
       "      <td>Staybridge Suites Toronto</td>\n",
       "      <td>I stayed here during a weeknight in July with ...</td>\n",
       "      <td>3</td>\n",
       "      <td>negative</td>\n",
       "      <td>-0.6042</td>\n",
       "    </tr>\n",
       "    <tr>\n",
       "      <th>3</th>\n",
       "      <td>78931757</td>\n",
       "      <td>Staybridge Suites Toronto</td>\n",
       "      <td>Spent 5 weeks here while my home was prepped -...</td>\n",
       "      <td>5</td>\n",
       "      <td>positive</td>\n",
       "      <td>0.9537</td>\n",
       "    </tr>\n",
       "    <tr>\n",
       "      <th>4</th>\n",
       "      <td>78277874</td>\n",
       "      <td>Staybridge Suites Toronto</td>\n",
       "      <td>My family booked this hotel and at first we we...</td>\n",
       "      <td>5</td>\n",
       "      <td>positive</td>\n",
       "      <td>0.9985</td>\n",
       "    </tr>\n",
       "  </tbody>\n",
       "</table>\n",
       "</div>"
      ],
      "text/plain": [
       "      idNum                  hotelName  \\\n",
       "0  86280330  Staybridge Suites Toronto   \n",
       "1  85071982  Staybridge Suites Toronto   \n",
       "2  79574338  Staybridge Suites Toronto   \n",
       "3  78931757  Staybridge Suites Toronto   \n",
       "4  78277874  Staybridge Suites Toronto   \n",
       "\n",
       "                                        reviewColumn  ratingScore groundTruth  \\\n",
       "0  my husband and i stayed there for 9 nights as ...            4    positive   \n",
       "1  Our stay was not the worst I've ever stayed in...            3    negative   \n",
       "2  I stayed here during a weeknight in July with ...            3    negative   \n",
       "3  Spent 5 weeks here while my home was prepped -...            5    positive   \n",
       "4  My family booked this hotel and at first we we...            5    positive   \n",
       "\n",
       "   vaderScore  \n",
       "0      0.9731  \n",
       "1     -0.2973  \n",
       "2     -0.6042  \n",
       "3      0.9537  \n",
       "4      0.9985  "
      ]
     },
     "execution_count": 9,
     "metadata": {},
     "output_type": "execute_result"
    }
   ],
   "source": [
    "analyzeDF.head()"
   ]
  },
  {
   "cell_type": "markdown",
   "metadata": {},
   "source": [
    "### Top Hotels\n",
    "We first take a look the top hotels based on both average rating score and sentiment value."
   ]
  },
  {
   "cell_type": "markdown",
   "metadata": {},
   "source": [
    "Top 5 hotels by average rating score"
   ]
  },
  {
   "cell_type": "code",
   "execution_count": 10,
   "metadata": {},
   "outputs": [
    {
     "data": {
      "text/html": [
       "<div>\n",
       "<style scoped>\n",
       "    .dataframe tbody tr th:only-of-type {\n",
       "        vertical-align: middle;\n",
       "    }\n",
       "\n",
       "    .dataframe tbody tr th {\n",
       "        vertical-align: top;\n",
       "    }\n",
       "\n",
       "    .dataframe thead th {\n",
       "        text-align: right;\n",
       "    }\n",
       "</style>\n",
       "<table border=\"1\" class=\"dataframe\">\n",
       "  <thead>\n",
       "    <tr style=\"text-align: right;\">\n",
       "      <th></th>\n",
       "      <th>ratingScore</th>\n",
       "    </tr>\n",
       "    <tr>\n",
       "      <th>hotelName</th>\n",
       "      <th></th>\n",
       "    </tr>\n",
       "  </thead>\n",
       "  <tbody>\n",
       "    <tr>\n",
       "      <th>Hampton Inn &amp;amp; Suites by Hilton Toronto Markham</th>\n",
       "      <td>4.447458</td>\n",
       "    </tr>\n",
       "    <tr>\n",
       "      <th>TownePlace Suites Toronto Northeast/Markham</th>\n",
       "      <td>4.351351</td>\n",
       "    </tr>\n",
       "    <tr>\n",
       "      <th>Hilton Garden Inn Toronto/Markham</th>\n",
       "      <td>4.305927</td>\n",
       "    </tr>\n",
       "    <tr>\n",
       "      <th>Homewood Suites by Hilton Toronto-Markham</th>\n",
       "      <td>4.303398</td>\n",
       "    </tr>\n",
       "    <tr>\n",
       "      <th>Courtyard Toronto Northeast/Markham</th>\n",
       "      <td>4.300813</td>\n",
       "    </tr>\n",
       "  </tbody>\n",
       "</table>\n",
       "</div>"
      ],
      "text/plain": [
       "                                                    ratingScore\n",
       "hotelName                                                      \n",
       "Hampton Inn &amp; Suites by Hilton Toronto Markham     4.447458\n",
       "TownePlace Suites Toronto Northeast/Markham            4.351351\n",
       "Hilton Garden Inn Toronto/Markham                      4.305927\n",
       "Homewood Suites by Hilton Toronto-Markham              4.303398\n",
       "Courtyard Toronto Northeast/Markham                    4.300813"
      ]
     },
     "execution_count": 10,
     "metadata": {},
     "output_type": "execute_result"
    }
   ],
   "source": [
    "# create vader DF and group by hotelName and mean of vader values.\n",
    "ratingDF = analyzeDF.drop(['idNum','reviewColumn','groundTruth','vaderScore'],axis=1)\n",
    "ratingDF = ratingDF.groupby('hotelName').mean()\n",
    "ratingDF = ratingDF.sort_values(by = 'ratingScore', ascending=False)\n",
    "ratingDF.head()"
   ]
  },
  {
   "cell_type": "markdown",
   "metadata": {},
   "source": [
    "Top 5 hotels by average vader score"
   ]
  },
  {
   "cell_type": "code",
   "execution_count": 11,
   "metadata": {
    "scrolled": true
   },
   "outputs": [
    {
     "data": {
      "text/html": [
       "<div>\n",
       "<style scoped>\n",
       "    .dataframe tbody tr th:only-of-type {\n",
       "        vertical-align: middle;\n",
       "    }\n",
       "\n",
       "    .dataframe tbody tr th {\n",
       "        vertical-align: top;\n",
       "    }\n",
       "\n",
       "    .dataframe thead th {\n",
       "        text-align: right;\n",
       "    }\n",
       "</style>\n",
       "<table border=\"1\" class=\"dataframe\">\n",
       "  <thead>\n",
       "    <tr style=\"text-align: right;\">\n",
       "      <th></th>\n",
       "      <th>vaderScore</th>\n",
       "    </tr>\n",
       "    <tr>\n",
       "      <th>hotelName</th>\n",
       "      <th></th>\n",
       "    </tr>\n",
       "  </thead>\n",
       "  <tbody>\n",
       "    <tr>\n",
       "      <th>TownePlace Suites Toronto Northeast/Markham</th>\n",
       "      <td>0.835615</td>\n",
       "    </tr>\n",
       "    <tr>\n",
       "      <th>Hampton Inn &amp;amp; Suites by Hilton Toronto Markham</th>\n",
       "      <td>0.835335</td>\n",
       "    </tr>\n",
       "    <tr>\n",
       "      <th>Monte Carlo Inn &amp;amp; Suites Downtown Markham</th>\n",
       "      <td>0.831920</td>\n",
       "    </tr>\n",
       "    <tr>\n",
       "      <th>Courtyard Toronto Northeast/Markham</th>\n",
       "      <td>0.807440</td>\n",
       "    </tr>\n",
       "    <tr>\n",
       "      <th>Edward Village Markham</th>\n",
       "      <td>0.803865</td>\n",
       "    </tr>\n",
       "  </tbody>\n",
       "</table>\n",
       "</div>"
      ],
      "text/plain": [
       "                                                    vaderScore\n",
       "hotelName                                                     \n",
       "TownePlace Suites Toronto Northeast/Markham           0.835615\n",
       "Hampton Inn &amp; Suites by Hilton Toronto Markham    0.835335\n",
       "Monte Carlo Inn &amp; Suites Downtown Markham         0.831920\n",
       "Courtyard Toronto Northeast/Markham                   0.807440\n",
       "Edward Village Markham                                0.803865"
      ]
     },
     "execution_count": 11,
     "metadata": {},
     "output_type": "execute_result"
    }
   ],
   "source": [
    "# create vader DF and group by hotelName and mean of vader values.\n",
    "vaderDF = analyzeDF.drop(['idNum','reviewColumn','ratingScore','groundTruth'],axis=1)\n",
    "vaderDF = vaderDF.groupby('hotelName').mean()\n",
    "vaderDF = vaderDF.sort_values(by = 'vaderScore', ascending=False)\n",
    "vaderDF.head()"
   ]
  },
  {
   "cell_type": "markdown",
   "metadata": {},
   "source": [
    "Compare the two lists of top hotels"
   ]
  },
  {
   "cell_type": "code",
   "execution_count": 12,
   "metadata": {},
   "outputs": [
    {
     "data": {
      "text/html": [
       "<div>\n",
       "<style scoped>\n",
       "    .dataframe tbody tr th:only-of-type {\n",
       "        vertical-align: middle;\n",
       "    }\n",
       "\n",
       "    .dataframe tbody tr th {\n",
       "        vertical-align: top;\n",
       "    }\n",
       "\n",
       "    .dataframe thead th {\n",
       "        text-align: right;\n",
       "    }\n",
       "</style>\n",
       "<table border=\"1\" class=\"dataframe\">\n",
       "  <thead>\n",
       "    <tr style=\"text-align: right;\">\n",
       "      <th></th>\n",
       "      <th>ratingScore</th>\n",
       "      <th>vaderScore</th>\n",
       "    </tr>\n",
       "  </thead>\n",
       "  <tbody>\n",
       "    <tr>\n",
       "      <th>Hampton Inn &amp;amp; Suites by Hilton Toronto Markham</th>\n",
       "      <td>4.447458</td>\n",
       "      <td>0.835335</td>\n",
       "    </tr>\n",
       "    <tr>\n",
       "      <th>TownePlace Suites Toronto Northeast/Markham</th>\n",
       "      <td>4.351351</td>\n",
       "      <td>0.835615</td>\n",
       "    </tr>\n",
       "    <tr>\n",
       "      <th>Hilton Garden Inn Toronto/Markham</th>\n",
       "      <td>4.305927</td>\n",
       "      <td>NaN</td>\n",
       "    </tr>\n",
       "    <tr>\n",
       "      <th>Homewood Suites by Hilton Toronto-Markham</th>\n",
       "      <td>4.303398</td>\n",
       "      <td>NaN</td>\n",
       "    </tr>\n",
       "    <tr>\n",
       "      <th>Courtyard Toronto Northeast/Markham</th>\n",
       "      <td>4.300813</td>\n",
       "      <td>0.807440</td>\n",
       "    </tr>\n",
       "    <tr>\n",
       "      <th>Monte Carlo Inn &amp;amp; Suites Downtown Markham</th>\n",
       "      <td>NaN</td>\n",
       "      <td>0.831920</td>\n",
       "    </tr>\n",
       "    <tr>\n",
       "      <th>Edward Village Markham</th>\n",
       "      <td>NaN</td>\n",
       "      <td>0.803865</td>\n",
       "    </tr>\n",
       "  </tbody>\n",
       "</table>\n",
       "</div>"
      ],
      "text/plain": [
       "                                                    ratingScore  vaderScore\n",
       "Hampton Inn &amp; Suites by Hilton Toronto Markham     4.447458    0.835335\n",
       "TownePlace Suites Toronto Northeast/Markham            4.351351    0.835615\n",
       "Hilton Garden Inn Toronto/Markham                      4.305927         NaN\n",
       "Homewood Suites by Hilton Toronto-Markham              4.303398         NaN\n",
       "Courtyard Toronto Northeast/Markham                    4.300813    0.807440\n",
       "Monte Carlo Inn &amp; Suites Downtown Markham               NaN    0.831920\n",
       "Edward Village Markham                                      NaN    0.803865"
      ]
     },
     "execution_count": 12,
     "metadata": {},
     "output_type": "execute_result"
    }
   ],
   "source": [
    "# Get the overlapping hotels in both top5 lists \n",
    "overlapDF= pandas.concat([ratingDF[:5],vaderDF[:5]], axis=1, join='outer',sort=False)\n",
    "overlapDF"
   ]
  },
  {
   "cell_type": "markdown",
   "metadata": {},
   "source": [
    "We can see that the top hotels in two lists are mostly overlapped, which means that the sentiment value we calculated from the reviews have a high correlation to the rating score provided by the user."
   ]
  },
  {
   "cell_type": "markdown",
   "metadata": {},
   "source": [
    "### Bottom Hotels\n",
    "We then take a look the bottom hotels ranked by average rating score and sentiment value."
   ]
  },
  {
   "cell_type": "markdown",
   "metadata": {},
   "source": [
    "Bottom 5 hotels by average rating score"
   ]
  },
  {
   "cell_type": "code",
   "execution_count": 13,
   "metadata": {},
   "outputs": [
    {
     "data": {
      "text/html": [
       "<div>\n",
       "<style scoped>\n",
       "    .dataframe tbody tr th:only-of-type {\n",
       "        vertical-align: middle;\n",
       "    }\n",
       "\n",
       "    .dataframe tbody tr th {\n",
       "        vertical-align: top;\n",
       "    }\n",
       "\n",
       "    .dataframe thead th {\n",
       "        text-align: right;\n",
       "    }\n",
       "</style>\n",
       "<table border=\"1\" class=\"dataframe\">\n",
       "  <thead>\n",
       "    <tr style=\"text-align: right;\">\n",
       "      <th></th>\n",
       "      <th>ratingScore</th>\n",
       "    </tr>\n",
       "    <tr>\n",
       "      <th>hotelName</th>\n",
       "      <th></th>\n",
       "    </tr>\n",
       "  </thead>\n",
       "  <tbody>\n",
       "    <tr>\n",
       "      <th>Park Inn By Radisson Toronto-Markham</th>\n",
       "      <td>3.605863</td>\n",
       "    </tr>\n",
       "    <tr>\n",
       "      <th>Monte Carlo Inns Markham</th>\n",
       "      <td>3.657143</td>\n",
       "    </tr>\n",
       "    <tr>\n",
       "      <th>Comfort Inn Toronto Northeast</th>\n",
       "      <td>3.756477</td>\n",
       "    </tr>\n",
       "    <tr>\n",
       "      <th>Courtyard Toronto Markham</th>\n",
       "      <td>3.828877</td>\n",
       "    </tr>\n",
       "    <tr>\n",
       "      <th>Delta Markham</th>\n",
       "      <td>3.853211</td>\n",
       "    </tr>\n",
       "  </tbody>\n",
       "</table>\n",
       "</div>"
      ],
      "text/plain": [
       "                                      ratingScore\n",
       "hotelName                                        \n",
       "Park Inn By Radisson Toronto-Markham     3.605863\n",
       "Monte Carlo Inns Markham                 3.657143\n",
       "Comfort Inn Toronto Northeast            3.756477\n",
       "Courtyard Toronto Markham                3.828877\n",
       "Delta Markham                            3.853211"
      ]
     },
     "execution_count": 13,
     "metadata": {},
     "output_type": "execute_result"
    }
   ],
   "source": [
    "ratingBottomDF = ratingDF.sort_values(by = 'ratingScore', ascending=True)\n",
    "ratingBottomDF.head()"
   ]
  },
  {
   "cell_type": "markdown",
   "metadata": {},
   "source": [
    "Bottom 5 hotels by average vader score"
   ]
  },
  {
   "cell_type": "code",
   "execution_count": 14,
   "metadata": {},
   "outputs": [
    {
     "data": {
      "text/html": [
       "<div>\n",
       "<style scoped>\n",
       "    .dataframe tbody tr th:only-of-type {\n",
       "        vertical-align: middle;\n",
       "    }\n",
       "\n",
       "    .dataframe tbody tr th {\n",
       "        vertical-align: top;\n",
       "    }\n",
       "\n",
       "    .dataframe thead th {\n",
       "        text-align: right;\n",
       "    }\n",
       "</style>\n",
       "<table border=\"1\" class=\"dataframe\">\n",
       "  <thead>\n",
       "    <tr style=\"text-align: right;\">\n",
       "      <th></th>\n",
       "      <th>vaderScore</th>\n",
       "    </tr>\n",
       "    <tr>\n",
       "      <th>hotelName</th>\n",
       "      <th></th>\n",
       "    </tr>\n",
       "  </thead>\n",
       "  <tbody>\n",
       "    <tr>\n",
       "      <th>Monte Carlo Inns Markham</th>\n",
       "      <td>0.643021</td>\n",
       "    </tr>\n",
       "    <tr>\n",
       "      <th>Park Inn By Radisson Toronto-Markham</th>\n",
       "      <td>0.662436</td>\n",
       "    </tr>\n",
       "    <tr>\n",
       "      <th>Hilton Toronto / Markham Suites Conference Centre &amp;amp; Spa</th>\n",
       "      <td>0.685487</td>\n",
       "    </tr>\n",
       "    <tr>\n",
       "      <th>Comfort Inn Toronto Northeast</th>\n",
       "      <td>0.686889</td>\n",
       "    </tr>\n",
       "    <tr>\n",
       "      <th>Residence Inn Toronto Markham</th>\n",
       "      <td>0.703197</td>\n",
       "    </tr>\n",
       "  </tbody>\n",
       "</table>\n",
       "</div>"
      ],
      "text/plain": [
       "                                                    vaderScore\n",
       "hotelName                                                     \n",
       "Monte Carlo Inns Markham                              0.643021\n",
       "Park Inn By Radisson Toronto-Markham                  0.662436\n",
       "Hilton Toronto / Markham Suites Conference Cent...    0.685487\n",
       "Comfort Inn Toronto Northeast                         0.686889\n",
       "Residence Inn Toronto Markham                         0.703197"
      ]
     },
     "execution_count": 14,
     "metadata": {},
     "output_type": "execute_result"
    }
   ],
   "source": [
    "vaderBottomDF = vaderDF.sort_values(by = 'vaderScore', ascending=True)\n",
    "vaderBottomDF.head()"
   ]
  },
  {
   "cell_type": "markdown",
   "metadata": {},
   "source": [
    "Compare the two lists of bottom hotels"
   ]
  },
  {
   "cell_type": "code",
   "execution_count": 15,
   "metadata": {},
   "outputs": [
    {
     "data": {
      "text/html": [
       "<div>\n",
       "<style scoped>\n",
       "    .dataframe tbody tr th:only-of-type {\n",
       "        vertical-align: middle;\n",
       "    }\n",
       "\n",
       "    .dataframe tbody tr th {\n",
       "        vertical-align: top;\n",
       "    }\n",
       "\n",
       "    .dataframe thead th {\n",
       "        text-align: right;\n",
       "    }\n",
       "</style>\n",
       "<table border=\"1\" class=\"dataframe\">\n",
       "  <thead>\n",
       "    <tr style=\"text-align: right;\">\n",
       "      <th></th>\n",
       "      <th>ratingScore</th>\n",
       "      <th>vaderScore</th>\n",
       "    </tr>\n",
       "  </thead>\n",
       "  <tbody>\n",
       "    <tr>\n",
       "      <th>Park Inn By Radisson Toronto-Markham</th>\n",
       "      <td>3.605863</td>\n",
       "      <td>0.662436</td>\n",
       "    </tr>\n",
       "    <tr>\n",
       "      <th>Monte Carlo Inns Markham</th>\n",
       "      <td>3.657143</td>\n",
       "      <td>0.643021</td>\n",
       "    </tr>\n",
       "    <tr>\n",
       "      <th>Comfort Inn Toronto Northeast</th>\n",
       "      <td>3.756477</td>\n",
       "      <td>0.686889</td>\n",
       "    </tr>\n",
       "    <tr>\n",
       "      <th>Courtyard Toronto Markham</th>\n",
       "      <td>3.828877</td>\n",
       "      <td>NaN</td>\n",
       "    </tr>\n",
       "    <tr>\n",
       "      <th>Delta Markham</th>\n",
       "      <td>3.853211</td>\n",
       "      <td>NaN</td>\n",
       "    </tr>\n",
       "    <tr>\n",
       "      <th>Hilton Toronto / Markham Suites Conference Centre &amp;amp; Spa</th>\n",
       "      <td>NaN</td>\n",
       "      <td>0.685487</td>\n",
       "    </tr>\n",
       "    <tr>\n",
       "      <th>Residence Inn Toronto Markham</th>\n",
       "      <td>NaN</td>\n",
       "      <td>0.703197</td>\n",
       "    </tr>\n",
       "  </tbody>\n",
       "</table>\n",
       "</div>"
      ],
      "text/plain": [
       "                                                    ratingScore  vaderScore\n",
       "Park Inn By Radisson Toronto-Markham                   3.605863    0.662436\n",
       "Monte Carlo Inns Markham                               3.657143    0.643021\n",
       "Comfort Inn Toronto Northeast                          3.756477    0.686889\n",
       "Courtyard Toronto Markham                              3.828877         NaN\n",
       "Delta Markham                                          3.853211         NaN\n",
       "Hilton Toronto / Markham Suites Conference Cent...          NaN    0.685487\n",
       "Residence Inn Toronto Markham                               NaN    0.703197"
      ]
     },
     "execution_count": 15,
     "metadata": {},
     "output_type": "execute_result"
    }
   ],
   "source": [
    "# Get the overlapping hotels in both bottom5 lists \n",
    "overlapBottomDF= pandas.concat([ratingBottomDF[:5],vaderBottomDF[:5]], axis=1, join='outer',sort=False)\n",
    "overlapBottomDF"
   ]
  },
  {
   "cell_type": "markdown",
   "metadata": {},
   "source": [
    "We can see that the two bottom lists also have overlapping hotels, which reinforces the correlation between rating score and sentiment value."
   ]
  },
  {
   "cell_type": "markdown",
   "metadata": {},
   "source": [
    "## Frequency Analysis - words\n",
    "We rank the top-50 most frequent non-stop words in reviews for both positive and negative with ground truth sentiment and sentiment values."
   ]
  },
  {
   "cell_type": "code",
   "execution_count": 16,
   "metadata": {},
   "outputs": [],
   "source": [
    "# First transform the hotelDF dataframe to include top 500 frequent words as features\n",
    "def dataFrameTransformation(hotelDf, reviewDF, k=500):\n",
    "    reviews = reviewDF['reviewCol'].values\n",
    "    \n",
    "    tokenizer = RegexpTokenizer(r'\\w+')\n",
    "    lemmatizer = nltk.WordNetLemmatizer()\n",
    "    stemmer = nltk.stem.porter.PorterStemmer()\n",
    "    \n",
    "    stop = set(stopwords.words('english'))\n",
    "    \n",
    "    # Top-k frequent terms\n",
    "    counter = Counter()\n",
    "    for review in reviews:\n",
    "        review = [lemmatizer.lemmatize(words.lower(),'v') for words in tokenizer.tokenize(review)]\n",
    "        review = [stemmer.stem(words) for words in review]\n",
    "        counter.update([word for word in review if word not in stop and len(word) > 2])\n",
    "\n",
    "    topk = counter.most_common(k)   \n",
    "    \n",
    "    #Find out if a particular review has the word from topk list\n",
    "    freqReview = []\n",
    "    for i in range(len(reviews)):\n",
    "        tempCounter = Counter([word.lower() for word in re.findall(r'\\w+',reviews[i])])\n",
    "        topkinReview = [1 if tempCounter[word] > 0 else 0 for (word,wordCount) in topk]\n",
    "        freqReview.append(topkinReview)\n",
    "        \n",
    "        \n",
    "    #Prepare freqReviewDf\n",
    "    freqReviewDf = pandas.DataFrame(freqReview)\n",
    "    dfName = []\n",
    "    for c in topk:\n",
    "        dfName.append(c[0])\n",
    "    freqReviewDf.columns = dfName #assign the column names to be each of the top 500 most frequent words\n",
    "    finalreviewDf = reviewDF.join(freqReviewDf)\n",
    "    finaldf = hotelDf[['hotelName','ratingScore','groundTruth']].join(finalreviewDf)\n",
    "    return topk, finaldf"
   ]
  },
  {
   "cell_type": "code",
   "execution_count": 17,
   "metadata": {
    "scrolled": true
   },
   "outputs": [
    {
     "data": {
      "text/html": [
       "<div>\n",
       "<style scoped>\n",
       "    .dataframe tbody tr th:only-of-type {\n",
       "        vertical-align: middle;\n",
       "    }\n",
       "\n",
       "    .dataframe tbody tr th {\n",
       "        vertical-align: top;\n",
       "    }\n",
       "\n",
       "    .dataframe thead th {\n",
       "        text-align: right;\n",
       "    }\n",
       "</style>\n",
       "<table border=\"1\" class=\"dataframe\">\n",
       "  <thead>\n",
       "    <tr style=\"text-align: right;\">\n",
       "      <th></th>\n",
       "      <th>hotelName</th>\n",
       "      <th>ratingScore</th>\n",
       "      <th>groundTruth</th>\n",
       "      <th>reviewCol</th>\n",
       "      <th>vaderScore</th>\n",
       "      <th>room</th>\n",
       "      <th>hotel</th>\n",
       "      <th>stay</th>\n",
       "      <th>veri</th>\n",
       "      <th>thi</th>\n",
       "      <th>...</th>\n",
       "      <th>els</th>\n",
       "      <th>compar</th>\n",
       "      <th>screen</th>\n",
       "      <th>zoo</th>\n",
       "      <th>entir</th>\n",
       "      <th>condit</th>\n",
       "      <th>okay</th>\n",
       "      <th>soft</th>\n",
       "      <th>typic</th>\n",
       "      <th>tournament</th>\n",
       "    </tr>\n",
       "  </thead>\n",
       "  <tbody>\n",
       "    <tr>\n",
       "      <th>0</th>\n",
       "      <td>Staybridge Suites Toronto</td>\n",
       "      <td>4</td>\n",
       "      <td>positive</td>\n",
       "      <td>my husband and i stayed there for 9 nights as ...</td>\n",
       "      <td>0.9731</td>\n",
       "      <td>0</td>\n",
       "      <td>1</td>\n",
       "      <td>0</td>\n",
       "      <td>0</td>\n",
       "      <td>0</td>\n",
       "      <td>...</td>\n",
       "      <td>0</td>\n",
       "      <td>0</td>\n",
       "      <td>0</td>\n",
       "      <td>0</td>\n",
       "      <td>0</td>\n",
       "      <td>0</td>\n",
       "      <td>0</td>\n",
       "      <td>0</td>\n",
       "      <td>0</td>\n",
       "      <td>0</td>\n",
       "    </tr>\n",
       "    <tr>\n",
       "      <th>1</th>\n",
       "      <td>Staybridge Suites Toronto</td>\n",
       "      <td>3</td>\n",
       "      <td>negative</td>\n",
       "      <td>Our stay was not the worst I've ever stayed in...</td>\n",
       "      <td>-0.2973</td>\n",
       "      <td>1</td>\n",
       "      <td>0</td>\n",
       "      <td>1</td>\n",
       "      <td>0</td>\n",
       "      <td>0</td>\n",
       "      <td>...</td>\n",
       "      <td>0</td>\n",
       "      <td>0</td>\n",
       "      <td>0</td>\n",
       "      <td>0</td>\n",
       "      <td>0</td>\n",
       "      <td>0</td>\n",
       "      <td>0</td>\n",
       "      <td>0</td>\n",
       "      <td>0</td>\n",
       "      <td>0</td>\n",
       "    </tr>\n",
       "    <tr>\n",
       "      <th>2</th>\n",
       "      <td>Staybridge Suites Toronto</td>\n",
       "      <td>3</td>\n",
       "      <td>negative</td>\n",
       "      <td>I stayed here during a weeknight in July with ...</td>\n",
       "      <td>-0.6042</td>\n",
       "      <td>1</td>\n",
       "      <td>1</td>\n",
       "      <td>0</td>\n",
       "      <td>0</td>\n",
       "      <td>0</td>\n",
       "      <td>...</td>\n",
       "      <td>0</td>\n",
       "      <td>0</td>\n",
       "      <td>0</td>\n",
       "      <td>1</td>\n",
       "      <td>0</td>\n",
       "      <td>0</td>\n",
       "      <td>0</td>\n",
       "      <td>0</td>\n",
       "      <td>0</td>\n",
       "      <td>0</td>\n",
       "    </tr>\n",
       "    <tr>\n",
       "      <th>3</th>\n",
       "      <td>Staybridge Suites Toronto</td>\n",
       "      <td>5</td>\n",
       "      <td>positive</td>\n",
       "      <td>Spent 5 weeks here while my home was prepped -...</td>\n",
       "      <td>0.9537</td>\n",
       "      <td>0</td>\n",
       "      <td>0</td>\n",
       "      <td>1</td>\n",
       "      <td>0</td>\n",
       "      <td>0</td>\n",
       "      <td>...</td>\n",
       "      <td>0</td>\n",
       "      <td>0</td>\n",
       "      <td>0</td>\n",
       "      <td>0</td>\n",
       "      <td>0</td>\n",
       "      <td>0</td>\n",
       "      <td>0</td>\n",
       "      <td>0</td>\n",
       "      <td>0</td>\n",
       "      <td>0</td>\n",
       "    </tr>\n",
       "    <tr>\n",
       "      <th>4</th>\n",
       "      <td>Staybridge Suites Toronto</td>\n",
       "      <td>5</td>\n",
       "      <td>positive</td>\n",
       "      <td>My family booked this hotel and at first we we...</td>\n",
       "      <td>0.9985</td>\n",
       "      <td>1</td>\n",
       "      <td>1</td>\n",
       "      <td>0</td>\n",
       "      <td>0</td>\n",
       "      <td>0</td>\n",
       "      <td>...</td>\n",
       "      <td>0</td>\n",
       "      <td>0</td>\n",
       "      <td>0</td>\n",
       "      <td>0</td>\n",
       "      <td>0</td>\n",
       "      <td>0</td>\n",
       "      <td>0</td>\n",
       "      <td>0</td>\n",
       "      <td>0</td>\n",
       "      <td>0</td>\n",
       "    </tr>\n",
       "  </tbody>\n",
       "</table>\n",
       "<p>5 rows × 505 columns</p>\n",
       "</div>"
      ],
      "text/plain": [
       "                   hotelName  ratingScore groundTruth  \\\n",
       "0  Staybridge Suites Toronto            4    positive   \n",
       "1  Staybridge Suites Toronto            3    negative   \n",
       "2  Staybridge Suites Toronto            3    negative   \n",
       "3  Staybridge Suites Toronto            5    positive   \n",
       "4  Staybridge Suites Toronto            5    positive   \n",
       "\n",
       "                                           reviewCol  vaderScore  room  hotel  \\\n",
       "0  my husband and i stayed there for 9 nights as ...      0.9731     0      1   \n",
       "1  Our stay was not the worst I've ever stayed in...     -0.2973     1      0   \n",
       "2  I stayed here during a weeknight in July with ...     -0.6042     1      1   \n",
       "3  Spent 5 weeks here while my home was prepped -...      0.9537     0      0   \n",
       "4  My family booked this hotel and at first we we...      0.9985     1      1   \n",
       "\n",
       "   stay  veri  thi  ...  els  compar  screen  zoo  entir  condit  okay  soft  \\\n",
       "0     0     0    0  ...    0       0       0    0      0       0     0     0   \n",
       "1     1     0    0  ...    0       0       0    0      0       0     0     0   \n",
       "2     0     0    0  ...    0       0       0    1      0       0     0     0   \n",
       "3     1     0    0  ...    0       0       0    0      0       0     0     0   \n",
       "4     0     0    0  ...    0       0       0    0      0       0     0     0   \n",
       "\n",
       "   typic  tournament  \n",
       "0      0           0  \n",
       "1      0           0  \n",
       "2      0           0  \n",
       "3      0           0  \n",
       "4      0           0  \n",
       "\n",
       "[5 rows x 505 columns]"
      ]
     },
     "execution_count": 17,
     "metadata": {},
     "output_type": "execute_result"
    }
   ],
   "source": [
    "topk, finaldf = dataFrameTransformation(hotelDF, reviewDF, k=500)\n",
    "finaldf.head()"
   ]
  },
  {
   "cell_type": "markdown",
   "metadata": {},
   "source": [
    "We now get the top 50 most frequent word for both positve and negative reviews"
   ]
  },
  {
   "cell_type": "code",
   "execution_count": 18,
   "metadata": {},
   "outputs": [],
   "source": [
    "# We are only intereseted in this three column for overall analysis\n",
    "itemAnalysisDf = finaldf[['reviewCol','groundTruth','vaderScore']]"
   ]
  },
  {
   "cell_type": "code",
   "execution_count": 19,
   "metadata": {},
   "outputs": [],
   "source": [
    "# Define the function to get top k most frequent words\n",
    "def getTopK(df, k, label_value, label_column, operation, value_column='reviewCol'):\n",
    "    stop = set(stopwords.words('english'))\n",
    "    #Add possible Stop Words for Hotel Reviews\n",
    "    stop.add('hotel')\n",
    "    stop.add('room')\n",
    "    stop.add('rooms')\n",
    "    stop.add('stay')\n",
    "    stop.add('staff')\n",
    "    \n",
    "    tokenizer = RegexpTokenizer(r'\\w+')\n",
    "    lemmatizer = nltk.WordNetLemmatizer()\n",
    "    stemmer = nltk.stem.porter.PorterStemmer()\n",
    "    \n",
    "    counter = Counter()\n",
    "    for review in df.loc[operation(df[label_column],label_value)][value_column]:\n",
    "        review = [lemmatizer.lemmatize(words.lower(),'v') for words in tokenizer.tokenize(review)]\n",
    "        review = [stemmer.stem(words) for words in review]\n",
    "        counter.update([word for word in review if word not in stop and len(word) > 2])\n",
    "    \n",
    "    topk = [word for (word,freq) in counter.most_common(k)]\n",
    "    return topk"
   ]
  },
  {
   "cell_type": "markdown",
   "metadata": {},
   "source": [
    "Top 50 postive and negative words sorted using groud truth"
   ]
  },
  {
   "cell_type": "code",
   "execution_count": 20,
   "metadata": {},
   "outputs": [],
   "source": [
    "top50GroundPos = getTopK(df = itemAnalysisDf, k = 50, \n",
    "                         label_value = 'positive', label_column = 'groundTruth', \n",
    "                         operation = operator.eq)\n",
    "top50GroundNeg = getTopK(df = itemAnalysisDf, k = 50, \n",
    "                         label_value = 'negative', label_column = 'groundTruth',\n",
    "                        operation = operator.eq)"
   ]
  },
  {
   "cell_type": "markdown",
   "metadata": {},
   "source": [
    "Top 50 postive and negative words sorted using vader value"
   ]
  },
  {
   "cell_type": "code",
   "execution_count": 21,
   "metadata": {},
   "outputs": [],
   "source": [
    "top50VaderPos = getTopK(df = itemAnalysisDf, k = 50, \n",
    "                         label_value = 0, label_column = 'vaderScore', \n",
    "                         operation = operator.gt)\n",
    "top50VaderNeg = getTopK(df = itemAnalysisDf, k = 50, \n",
    "                         label_value = 0, label_column = 'vaderScore',\n",
    "                        operation = operator.lt)"
   ]
  },
  {
   "cell_type": "markdown",
   "metadata": {},
   "source": [
    "Compare the lists"
   ]
  },
  {
   "cell_type": "code",
   "execution_count": 22,
   "metadata": {},
   "outputs": [
    {
     "name": "stdout",
     "output_type": "stream",
     "text": [
      "{'time', 'thi', 'veri', 'suit', 'check', 'lot', 'get', 'friendli', 'free', 'also', 'pool', 'make', 'great', 'good', 'close', 'area', 'tip', 'help', 'front', 'even', 'famili', 'realli', 'desk', 'food', 'price', 'well', 'would', 'place', 'onli', 'nice', 'restaur', 'day', 'need', 'toronto', 'bed', 'night', 'breakfast', 'park', 'see', 'comfort', 'locat', 'recommend', 'like', 'clean', 'markham', 'one', 'servic', 'busi', 'use'}\n"
     ]
    }
   ],
   "source": [
    "print(set(top50GroundPos)&set(top50VaderPos))"
   ]
  },
  {
   "cell_type": "code",
   "execution_count": 23,
   "metadata": {},
   "outputs": [
    {
     "name": "stdout",
     "output_type": "stream",
     "text": [
      "{'come', 'time', 'could', 'thi', 'veri', 'suit', 'check', 'get', 'also', 'tell', 'make', 'good', 'area', 'floor', 'tip', 'front', 'even', 'take', 'desk', 'say', 'find', 'ask', 'work', 'would', 'onli', 'day', 'nice', 'back', 'need', 'call', 'bed', 'night', 'breakfast', 'see', 'like', 'clean', 'one', 'servic', 'book', 'look', 'give', 'use'}\n"
     ]
    }
   ],
   "source": [
    "print(set(top50GroundNeg)&set(top50VaderNeg))"
   ]
  },
  {
   "cell_type": "markdown",
   "metadata": {},
   "source": [
    "There are a decent amount of locale-specific words appearing as top words in both positive and negatives lists since customers usually provide their feedback on those specific facilities or services. <br>\n",
    "We can also see that some \"postive\" words appear frequently in the negative reviews. This indicates that it would be beneficial to perform the frequency analysis on phrases instead of words to gain more insights."
   ]
  },
  {
   "cell_type": "markdown",
   "metadata": {},
   "source": [
    "## Frequency Analysis - phrases\n",
    "Now we perform the frequency analysis on phrases"
   ]
  },
  {
   "cell_type": "code",
   "execution_count": 24,
   "metadata": {},
   "outputs": [],
   "source": [
    "# Evaluating n-gram based evaluation metrics for automatic keyphrase extraction.\n",
    "grammar = r\"\"\"\n",
    "    NBAR:\n",
    "        {<NN.*|JJ>*<NN.*>}  # Nouns and Adjectives, terminated with Nouns\n",
    "        \n",
    "    NP:\n",
    "        {<NBAR>}\n",
    "        {<NBAR><IN><NBAR>}  # Above, connected with in/of/etc...\n",
    "\"\"\""
   ]
  },
  {
   "cell_type": "code",
   "execution_count": 25,
   "metadata": {},
   "outputs": [],
   "source": [
    "# Noun Phrase Extraction Support Functions\n",
    "from nltk.corpus import stopwords\n",
    "stop = stopwords.words('english')\n",
    "lemmatizer = nltk.WordNetLemmatizer()\n",
    "stemmer = nltk.stem.porter.PorterStemmer()\n",
    "\n",
    "# generator, generate leaves one by one\n",
    "def leaves(tree):\n",
    "    \"\"\"Finds NP (nounphrase) leaf nodes of a chunk tree.\"\"\"\n",
    "    for subtree in tree.subtrees(filter = lambda t: t.label()=='NP' or t.label()=='JJ' or t.label()=='RB'):\n",
    "        yield subtree.leaves()\n",
    "\n",
    "# stemming, lematizing, lower case... \n",
    "def normalise(word):\n",
    "    \"\"\"Normalises words to lowercase and stems and lemmatizes it.\"\"\"\n",
    "    word = word.lower()\n",
    "    word = stemmer.stem(word)\n",
    "    word = lemmatizer.lemmatize(word)\n",
    "    return word\n",
    "\n",
    "# stop-words and length control\n",
    "def acceptable_word(word):\n",
    "    \"\"\"Checks conditions for acceptable word: length, stopword.\"\"\"\n",
    "    accepted = bool(2 <= len(word) <= 40\n",
    "        and word.lower() not in stop)\n",
    "    return accepted\n",
    "\n",
    "# generator, create item once a time\n",
    "def get_terms(tree):\n",
    "    for leaf in leaves(tree):\n",
    "        term = [normalise(w) for w,t in leaf if acceptable_word(w) ]\n",
    "        # Phrase only\n",
    "        if len(term)>1:\n",
    "            yield term"
   ]
  },
  {
   "cell_type": "code",
   "execution_count": 26,
   "metadata": {},
   "outputs": [],
   "source": [
    "# Flatten phrase lists to get tokens for analysis\n",
    "def flatten(npTokenList):\n",
    "    finalList =[]\n",
    "    for phrase in npTokenList:\n",
    "        token = ''\n",
    "        for word in phrase:\n",
    "            token += word + ' '\n",
    "        finalList.append(token.rstrip())\n",
    "    return finalList"
   ]
  },
  {
   "cell_type": "code",
   "execution_count": 27,
   "metadata": {},
   "outputs": [],
   "source": [
    "# Revise the previous dataframe transform function...\n",
    "def newDataFrameTransformation(hotelDf, reviewDF, k=50):\n",
    "    reviews = reviewDF['reviewCol'].values\n",
    "    \n",
    "    tokenizer = RegexpTokenizer(r'\\w+')\n",
    "    tagger = PerceptronTagger()\n",
    "    pos_tag = tagger.tag\n",
    "    chunker = nltk.RegexpParser(grammar)\n",
    "    \n",
    "    # Top-k frequent terms\n",
    "    counter = Counter()\n",
    "    for review in reviews:\n",
    "        counter.update(flatten([word for word in get_terms(chunker.parse(pos_tag(tokenizer.tokenize(review))))]))\n",
    "    \n",
    "    topk = counter.most_common(k)     \n",
    "    \n",
    "    #Find out if a particular review has the word from topk list\n",
    "    freqReview = []\n",
    "    for i in range(len(reviews)):\n",
    "        tempCounter = Counter(flatten([word for word in get_terms(chunker.parse(pos_tag(tokenizer.tokenize(reviews[i]))))]))\n",
    "        topkinReview = [1 if tempCounter[word] > 0 else 0 for (word,wordCount) in topk]\n",
    "        freqReview.append(topkinReview)\n",
    "        \n",
    "        \n",
    "    #Prepare freqReviewDf\n",
    "    freqReviewDf = pandas.DataFrame(freqReview)\n",
    "    dfName = []\n",
    "    for c in topk:\n",
    "        dfName.append(c[0])\n",
    "    freqReviewDf.columns = dfName\n",
    "    finalreviewDf = reviewDF.join(freqReviewDf)\n",
    "    finaldf = hotelDf[['hotelName','ratingScore','groundTruth']].join(finalreviewDf)\n",
    "    return topk, finaldf"
   ]
  },
  {
   "cell_type": "code",
   "execution_count": 28,
   "metadata": {
    "scrolled": true
   },
   "outputs": [
    {
     "data": {
      "text/html": [
       "<div>\n",
       "<style scoped>\n",
       "    .dataframe tbody tr th:only-of-type {\n",
       "        vertical-align: middle;\n",
       "    }\n",
       "\n",
       "    .dataframe tbody tr th {\n",
       "        vertical-align: top;\n",
       "    }\n",
       "\n",
       "    .dataframe thead th {\n",
       "        text-align: right;\n",
       "    }\n",
       "</style>\n",
       "<table border=\"1\" class=\"dataframe\">\n",
       "  <thead>\n",
       "    <tr style=\"text-align: right;\">\n",
       "      <th></th>\n",
       "      <th>hotelName</th>\n",
       "      <th>ratingScore</th>\n",
       "      <th>groundTruth</th>\n",
       "      <th>reviewCol</th>\n",
       "      <th>vaderScore</th>\n",
       "      <th>room tip</th>\n",
       "      <th>front desk</th>\n",
       "      <th>front desk staff</th>\n",
       "      <th>free breakfast</th>\n",
       "      <th>bedroom suit</th>\n",
       "      <th>...</th>\n",
       "      <th>breakfast area</th>\n",
       "      <th>downtown toronto</th>\n",
       "      <th>night stay</th>\n",
       "      <th>free wifi</th>\n",
       "      <th>comfort inn</th>\n",
       "      <th>hampton inn</th>\n",
       "      <th>full kitchen</th>\n",
       "      <th>great stay</th>\n",
       "      <th>mani restaur</th>\n",
       "      <th>great locat</th>\n",
       "    </tr>\n",
       "  </thead>\n",
       "  <tbody>\n",
       "    <tr>\n",
       "      <th>0</th>\n",
       "      <td>Staybridge Suites Toronto</td>\n",
       "      <td>4</td>\n",
       "      <td>positive</td>\n",
       "      <td>my husband and i stayed there for 9 nights as ...</td>\n",
       "      <td>0.9731</td>\n",
       "      <td>0</td>\n",
       "      <td>0</td>\n",
       "      <td>0</td>\n",
       "      <td>0</td>\n",
       "      <td>1</td>\n",
       "      <td>...</td>\n",
       "      <td>0</td>\n",
       "      <td>0</td>\n",
       "      <td>0</td>\n",
       "      <td>0</td>\n",
       "      <td>0</td>\n",
       "      <td>0</td>\n",
       "      <td>0</td>\n",
       "      <td>0</td>\n",
       "      <td>0</td>\n",
       "      <td>0</td>\n",
       "    </tr>\n",
       "    <tr>\n",
       "      <th>1</th>\n",
       "      <td>Staybridge Suites Toronto</td>\n",
       "      <td>3</td>\n",
       "      <td>negative</td>\n",
       "      <td>Our stay was not the worst I've ever stayed in...</td>\n",
       "      <td>-0.2973</td>\n",
       "      <td>0</td>\n",
       "      <td>0</td>\n",
       "      <td>0</td>\n",
       "      <td>0</td>\n",
       "      <td>0</td>\n",
       "      <td>...</td>\n",
       "      <td>0</td>\n",
       "      <td>0</td>\n",
       "      <td>0</td>\n",
       "      <td>0</td>\n",
       "      <td>0</td>\n",
       "      <td>0</td>\n",
       "      <td>0</td>\n",
       "      <td>0</td>\n",
       "      <td>0</td>\n",
       "      <td>0</td>\n",
       "    </tr>\n",
       "    <tr>\n",
       "      <th>2</th>\n",
       "      <td>Staybridge Suites Toronto</td>\n",
       "      <td>3</td>\n",
       "      <td>negative</td>\n",
       "      <td>I stayed here during a weeknight in July with ...</td>\n",
       "      <td>-0.6042</td>\n",
       "      <td>0</td>\n",
       "      <td>1</td>\n",
       "      <td>0</td>\n",
       "      <td>0</td>\n",
       "      <td>0</td>\n",
       "      <td>...</td>\n",
       "      <td>0</td>\n",
       "      <td>0</td>\n",
       "      <td>0</td>\n",
       "      <td>0</td>\n",
       "      <td>0</td>\n",
       "      <td>0</td>\n",
       "      <td>0</td>\n",
       "      <td>0</td>\n",
       "      <td>0</td>\n",
       "      <td>0</td>\n",
       "    </tr>\n",
       "    <tr>\n",
       "      <th>3</th>\n",
       "      <td>Staybridge Suites Toronto</td>\n",
       "      <td>5</td>\n",
       "      <td>positive</td>\n",
       "      <td>Spent 5 weeks here while my home was prepped -...</td>\n",
       "      <td>0.9537</td>\n",
       "      <td>0</td>\n",
       "      <td>0</td>\n",
       "      <td>0</td>\n",
       "      <td>0</td>\n",
       "      <td>0</td>\n",
       "      <td>...</td>\n",
       "      <td>0</td>\n",
       "      <td>0</td>\n",
       "      <td>0</td>\n",
       "      <td>0</td>\n",
       "      <td>0</td>\n",
       "      <td>0</td>\n",
       "      <td>0</td>\n",
       "      <td>0</td>\n",
       "      <td>0</td>\n",
       "      <td>0</td>\n",
       "    </tr>\n",
       "    <tr>\n",
       "      <th>4</th>\n",
       "      <td>Staybridge Suites Toronto</td>\n",
       "      <td>5</td>\n",
       "      <td>positive</td>\n",
       "      <td>My family booked this hotel and at first we we...</td>\n",
       "      <td>0.9985</td>\n",
       "      <td>0</td>\n",
       "      <td>0</td>\n",
       "      <td>0</td>\n",
       "      <td>0</td>\n",
       "      <td>1</td>\n",
       "      <td>...</td>\n",
       "      <td>0</td>\n",
       "      <td>0</td>\n",
       "      <td>0</td>\n",
       "      <td>0</td>\n",
       "      <td>0</td>\n",
       "      <td>0</td>\n",
       "      <td>0</td>\n",
       "      <td>0</td>\n",
       "      <td>0</td>\n",
       "      <td>0</td>\n",
       "    </tr>\n",
       "  </tbody>\n",
       "</table>\n",
       "<p>5 rows × 55 columns</p>\n",
       "</div>"
      ],
      "text/plain": [
       "                   hotelName  ratingScore groundTruth  \\\n",
       "0  Staybridge Suites Toronto            4    positive   \n",
       "1  Staybridge Suites Toronto            3    negative   \n",
       "2  Staybridge Suites Toronto            3    negative   \n",
       "3  Staybridge Suites Toronto            5    positive   \n",
       "4  Staybridge Suites Toronto            5    positive   \n",
       "\n",
       "                                           reviewCol  vaderScore  room tip  \\\n",
       "0  my husband and i stayed there for 9 nights as ...      0.9731         0   \n",
       "1  Our stay was not the worst I've ever stayed in...     -0.2973         0   \n",
       "2  I stayed here during a weeknight in July with ...     -0.6042         0   \n",
       "3  Spent 5 weeks here while my home was prepped -...      0.9537         0   \n",
       "4  My family booked this hotel and at first we we...      0.9985         0   \n",
       "\n",
       "   front desk  front desk staff  free breakfast  bedroom suit  ...  \\\n",
       "0           0                 0               0             1  ...   \n",
       "1           0                 0               0             0  ...   \n",
       "2           1                 0               0             0  ...   \n",
       "3           0                 0               0             0  ...   \n",
       "4           0                 0               0             1  ...   \n",
       "\n",
       "   breakfast area  downtown toronto  night stay  free wifi  comfort inn  \\\n",
       "0               0                 0           0          0            0   \n",
       "1               0                 0           0          0            0   \n",
       "2               0                 0           0          0            0   \n",
       "3               0                 0           0          0            0   \n",
       "4               0                 0           0          0            0   \n",
       "\n",
       "   hampton inn  full kitchen  great stay  mani restaur  great locat  \n",
       "0            0             0           0             0            0  \n",
       "1            0             0           0             0            0  \n",
       "2            0             0           0             0            0  \n",
       "3            0             0           0             0            0  \n",
       "4            0             0           0             0            0  \n",
       "\n",
       "[5 rows x 55 columns]"
      ]
     },
     "execution_count": 28,
     "metadata": {},
     "output_type": "execute_result"
    }
   ],
   "source": [
    "topk_phrase, finaldf_phrase = newDataFrameTransformation(hotelDF, reviewDF, k=50)\n",
    "finaldf_phrase.head()"
   ]
  },
  {
   "cell_type": "code",
   "execution_count": 29,
   "metadata": {},
   "outputs": [],
   "source": [
    "# We are only intereseted in this three column for overall analysis\n",
    "itemAnalysisDf_phrase = finaldf_phrase[['reviewCol','groundTruth','vaderScore']]"
   ]
  },
  {
   "cell_type": "code",
   "execution_count": 30,
   "metadata": {},
   "outputs": [],
   "source": [
    "# Define a function for getting top k phrases\n",
    "def getTopKPhrase(df, k, label_value, label_column, operation, value_column='reviewCol'):\n",
    "    \n",
    "    tokenizer = RegexpTokenizer(r'\\w+')\n",
    "    tagger = PerceptronTagger()\n",
    "    pos_tag = tagger.tag\n",
    "    # Create phrase tree\n",
    "    chunker = nltk.RegexpParser(grammar)\n",
    "    \n",
    "     # Top-k frequent phrases\n",
    "    counter = Counter()\n",
    "         \n",
    "    for review in df.loc[operation(df[label_column],label_value)][value_column]:\n",
    "        counter.update(flatten([word for word in get_terms(chunker.parse(pos_tag(tokenizer.tokenize(review))))]))\n",
    "    \n",
    "    topk = [word for (word, freq) in counter.most_common(k)]\n",
    "    return topk"
   ]
  },
  {
   "cell_type": "markdown",
   "metadata": {},
   "source": [
    "Top 50 positive and negative phrases sorted using ground truth"
   ]
  },
  {
   "cell_type": "code",
   "execution_count": 31,
   "metadata": {},
   "outputs": [],
   "source": [
    "top50PhraseGroundPos = getTopKPhrase(df = itemAnalysisDf_phrase, k = 50, \n",
    "                         label_value = 'positive', label_column = 'groundTruth',\n",
    "                        operation = operator.eq)\n",
    "top50PhraseGroundNeg = getTopKPhrase(df = itemAnalysisDf_phrase, k = 50, \n",
    "                         label_value = 'negative', label_column = 'groundTruth',\n",
    "                        operation = operator.eq)"
   ]
  },
  {
   "cell_type": "markdown",
   "metadata": {},
   "source": [
    "Top 50 positive and negative phrases sorted using vader value"
   ]
  },
  {
   "cell_type": "code",
   "execution_count": 32,
   "metadata": {},
   "outputs": [],
   "source": [
    "top50PhraseVaderPos = getTopKPhrase(df = itemAnalysisDf_phrase, k = 50, \n",
    "                         label_value = 0, label_column = 'vaderScore',\n",
    "                        operation = operator.gt)\n",
    "top50PhraseVaderNeg = getTopKPhrase(df = itemAnalysisDf_phrase, k = 50, \n",
    "                         label_value = 0, label_column = 'vaderScore',\n",
    "                        operation = operator.le)"
   ]
  },
  {
   "cell_type": "markdown",
   "metadata": {},
   "source": [
    "Compare the two lists"
   ]
  },
  {
   "cell_type": "code",
   "execution_count": 33,
   "metadata": {
    "scrolled": true
   },
   "outputs": [
    {
     "name": "stdout",
     "output_type": "stream",
     "text": [
      "{'front desk staff', 'great place', 'hilton garden inn', 'downtown toronto', 'hotel staff', 'live room', 'bedroom suit', 'clean staff', 'homewood suit', 'friendli staff', 'hot breakfast', 'park lot', 'nice hotel', 'hotel room', 'room tip', 'great stay', 'full kitchen', 'major highway', 'front desk', 'continent breakfast', 'doubl bed', 'great locat', 'easi access', 'next time', 'free breakfast', 'great hotel', 'great experi', 'hampton inn', 'first time', 'hot tub', 'good locat', 'complimentari breakfast', 'resid inn', 'good valu', 'breakfast buffet', 'free wifi', 'room servic', 'next morn', 'pool area', 'queen bed', 'busi travel', 'mani restaur', 'busi trip', 'comfort bed', 'breakfast area'}\n"
     ]
    }
   ],
   "source": [
    "print(set(top50PhraseGroundPos)&set(top50PhraseVaderPos))"
   ]
  },
  {
   "cell_type": "code",
   "execution_count": 34,
   "metadata": {},
   "outputs": [
    {
     "name": "stdout",
     "output_type": "stream",
     "text": [
      "{'front desk staff', 'hotel staff', 'next door', 'live room', 'bedroom suit', 'comfort inn', 'park lot', 'star hotel', 'hotel room', 'room tip', 'long time', 'custom servic', 'night stay', 'front desk', 'credit card', 'continent breakfast', 'hotel manag', 'new room', 'hot tub', 'resid inn', 'breakfast buffet', 'staff member', 'next day', 'recept area stink inconsist internet', 'next morn', 'room servic', 'sofa bed', 'slow internet wifi connect recept area stink', 'pool area', 'second night', 'queen bed', 'busi travel', 'smoke room'}\n"
     ]
    }
   ],
   "source": [
    "print(set(top50PhraseGroundNeg)&set(top50PhraseVaderNeg))"
   ]
  },
  {
   "cell_type": "markdown",
   "metadata": {},
   "source": [
    "We can see that the phrase frequency analysis returns a set of noun phrases for positive and negative reviews. Most of these phrases are locale-specific and they can be used as key words to describe the hotel. Together with the sentiment attached to the phrases, potential customers can get a sense of the hotel withou reading thoroughly through the reviews."
   ]
  },
  {
   "cell_type": "markdown",
   "metadata": {},
   "source": [
    "## Mutual Information Analysis - words\n",
    "We then use mutual information with ground truth sentiment to rank the top-50 most sentiment-bearing non-stopwords in the review."
   ]
  },
  {
   "cell_type": "code",
   "execution_count": 35,
   "metadata": {},
   "outputs": [],
   "source": [
    "# get Top K mutual information terms from the dataframe\n",
    "def getMI(topk, df, label_column='groundTruth'):\n",
    "    miScore = []\n",
    "    for word in topk:\n",
    "        miScore.append([word]+[metrics.mutual_info_score(df[label_column], df[word])])\n",
    "    miScoredf = pandas.DataFrame(miScore).sort_values(1,ascending=False)\n",
    "    miScoredf.columns = ['Word','MI Score']\n",
    "    return miScoredf"
   ]
  },
  {
   "cell_type": "code",
   "execution_count": 36,
   "metadata": {},
   "outputs": [],
   "source": [
    "# get separate dataframe for positive and negative reviews\n",
    "finalposdf = finaldf.loc[finaldf['groundTruth']=='positive']\n",
    "finalnegdf = finaldf.loc[finaldf['groundTruth']=='negative']"
   ]
  },
  {
   "cell_type": "markdown",
   "metadata": {},
   "source": [
    "Calculate MI score for top50 positive non-stopwords "
   ]
  },
  {
   "cell_type": "code",
   "execution_count": 37,
   "metadata": {},
   "outputs": [
    {
     "data": {
      "text/html": [
       "<div>\n",
       "<style scoped>\n",
       "    .dataframe tbody tr th:only-of-type {\n",
       "        vertical-align: middle;\n",
       "    }\n",
       "\n",
       "    .dataframe tbody tr th {\n",
       "        vertical-align: top;\n",
       "    }\n",
       "\n",
       "    .dataframe thead th {\n",
       "        text-align: right;\n",
       "    }\n",
       "</style>\n",
       "<table border=\"1\" class=\"dataframe\">\n",
       "  <thead>\n",
       "    <tr style=\"text-align: right;\">\n",
       "      <th></th>\n",
       "      <th>Word</th>\n",
       "      <th>MI Score</th>\n",
       "    </tr>\n",
       "  </thead>\n",
       "  <tbody>\n",
       "    <tr>\n",
       "      <th>22</th>\n",
       "      <td>help</td>\n",
       "      <td>1.748601e-15</td>\n",
       "    </tr>\n",
       "    <tr>\n",
       "      <th>4</th>\n",
       "      <td>good</td>\n",
       "      <td>1.443290e-15</td>\n",
       "    </tr>\n",
       "    <tr>\n",
       "      <th>2</th>\n",
       "      <td>clean</td>\n",
       "      <td>1.332268e-15</td>\n",
       "    </tr>\n",
       "    <tr>\n",
       "      <th>17</th>\n",
       "      <td>get</td>\n",
       "      <td>9.159340e-16</td>\n",
       "    </tr>\n",
       "    <tr>\n",
       "      <th>43</th>\n",
       "      <td>close</td>\n",
       "      <td>8.881784e-16</td>\n",
       "    </tr>\n",
       "  </tbody>\n",
       "</table>\n",
       "</div>"
      ],
      "text/plain": [
       "     Word      MI Score\n",
       "22   help  1.748601e-15\n",
       "4    good  1.443290e-15\n",
       "2   clean  1.332268e-15\n",
       "17    get  9.159340e-16\n",
       "43  close  8.881784e-16"
      ]
     },
     "execution_count": 37,
     "metadata": {},
     "output_type": "execute_result"
    }
   ],
   "source": [
    "miScoredf_pos = getMI(top50GroundPos, finalposdf)\n",
    "miScoredf_pos.head()"
   ]
  },
  {
   "cell_type": "markdown",
   "metadata": {},
   "source": [
    "Calculate MI score for top50 negative non-stopwords"
   ]
  },
  {
   "cell_type": "code",
   "execution_count": 38,
   "metadata": {},
   "outputs": [
    {
     "data": {
      "text/html": [
       "<div>\n",
       "<style scoped>\n",
       "    .dataframe tbody tr th:only-of-type {\n",
       "        vertical-align: middle;\n",
       "    }\n",
       "\n",
       "    .dataframe tbody tr th {\n",
       "        vertical-align: top;\n",
       "    }\n",
       "\n",
       "    .dataframe thead th {\n",
       "        text-align: right;\n",
       "    }\n",
       "</style>\n",
       "<table border=\"1\" class=\"dataframe\">\n",
       "  <thead>\n",
       "    <tr style=\"text-align: right;\">\n",
       "      <th></th>\n",
       "      <th>Word</th>\n",
       "      <th>MI Score</th>\n",
       "    </tr>\n",
       "  </thead>\n",
       "  <tbody>\n",
       "    <tr>\n",
       "      <th>45</th>\n",
       "      <td>park</td>\n",
       "      <td>8.881784e-16</td>\n",
       "    </tr>\n",
       "    <tr>\n",
       "      <th>31</th>\n",
       "      <td>look</td>\n",
       "      <td>8.326673e-16</td>\n",
       "    </tr>\n",
       "    <tr>\n",
       "      <th>29</th>\n",
       "      <td>need</td>\n",
       "      <td>7.771561e-16</td>\n",
       "    </tr>\n",
       "    <tr>\n",
       "      <th>48</th>\n",
       "      <td>well</td>\n",
       "      <td>1.665335e-16</td>\n",
       "    </tr>\n",
       "    <tr>\n",
       "      <th>18</th>\n",
       "      <td>day</td>\n",
       "      <td>1.665335e-16</td>\n",
       "    </tr>\n",
       "  </tbody>\n",
       "</table>\n",
       "</div>"
      ],
      "text/plain": [
       "    Word      MI Score\n",
       "45  park  8.881784e-16\n",
       "31  look  8.326673e-16\n",
       "29  need  7.771561e-16\n",
       "48  well  1.665335e-16\n",
       "18   day  1.665335e-16"
      ]
     },
     "execution_count": 38,
     "metadata": {},
     "output_type": "execute_result"
    }
   ],
   "source": [
    "miScoredf_neg = getMI(top50GroundNeg, finalnegdf)\n",
    "miScoredf_neg.head()"
   ]
  },
  {
   "cell_type": "markdown",
   "metadata": {},
   "source": [
    "We can see that some \"positive\" words still ranked pretty high in the MI score list for negative reviews.<br>\n",
    "Therefore, we need to perform tha analysis on noun phrases to get further results."
   ]
  },
  {
   "cell_type": "markdown",
   "metadata": {},
   "source": [
    "## Mutual Information Analysis - phrases\n",
    "We now peform the analysis for noun phrases."
   ]
  },
  {
   "cell_type": "markdown",
   "metadata": {},
   "source": [
    "Calculate top50 positive noun phrases"
   ]
  },
  {
   "cell_type": "code",
   "execution_count": 39,
   "metadata": {},
   "outputs": [],
   "source": [
    "# get postive and negative dataframe separately\n",
    "def getDF(topk, reviewDF, hotelDF, label_value):\n",
    "    reviews = reviewDF['reviewCol'].values\n",
    "    \n",
    "    tokenizer = RegexpTokenizer(r'\\w+')\n",
    "    tagger = PerceptronTagger()\n",
    "    pos_tag = tagger.tag\n",
    "    chunker = nltk.RegexpParser(grammar)\n",
    "    \n",
    "    #Find out if a particular review has the word from topk list\n",
    "    freqReview = []\n",
    "    for i in range(len(reviews)):\n",
    "        tempCounter = Counter(flatten([word for word in get_terms(chunker.parse(pos_tag(tokenizer.tokenize(reviews[i]))))]))\n",
    "        topkinReview = [1 if tempCounter[word] > 0 else 0 for word in topk]\n",
    "        freqReview.append(topkinReview)\n",
    "        \n",
    "    #Prepare freqReviewDf\n",
    "    freqReviewDf = pandas.DataFrame(freqReview)\n",
    "    dfName = []\n",
    "    for c in topk:\n",
    "        dfName.append(c)\n",
    "    freqReviewDf.columns = dfName\n",
    "    finalreviewDf = reviewDF.join(freqReviewDf)\n",
    "    finaldf = hotelDF[['hotelName','ratingScore','groundTruth']].join(finalreviewDf)\n",
    "    finaldf = finaldf.loc[finaldf['groundTruth']==label_value]\n",
    "    \n",
    "    return finaldf"
   ]
  },
  {
   "cell_type": "code",
   "execution_count": 40,
   "metadata": {},
   "outputs": [],
   "source": [
    "# get separate dataframe for positive and negative reviews\n",
    "finalposdf_phrase = getDF(top50PhraseGroundPos, reviewDF, hotelDF, 'positive')\n",
    "finalnegdf_phrase = getDF(top50PhraseGroundNeg, reviewDF, hotelDF, 'negative')"
   ]
  },
  {
   "cell_type": "code",
   "execution_count": 41,
   "metadata": {},
   "outputs": [
    {
     "data": {
      "text/html": [
       "<div>\n",
       "<style scoped>\n",
       "    .dataframe tbody tr th:only-of-type {\n",
       "        vertical-align: middle;\n",
       "    }\n",
       "\n",
       "    .dataframe tbody tr th {\n",
       "        vertical-align: top;\n",
       "    }\n",
       "\n",
       "    .dataframe thead th {\n",
       "        text-align: right;\n",
       "    }\n",
       "</style>\n",
       "<table border=\"1\" class=\"dataframe\">\n",
       "  <thead>\n",
       "    <tr style=\"text-align: right;\">\n",
       "      <th></th>\n",
       "      <th>Word</th>\n",
       "      <th>MI Score</th>\n",
       "    </tr>\n",
       "  </thead>\n",
       "  <tbody>\n",
       "    <tr>\n",
       "      <th>30</th>\n",
       "      <td>doubl bed</td>\n",
       "      <td>1.771153e-15</td>\n",
       "    </tr>\n",
       "    <tr>\n",
       "      <th>43</th>\n",
       "      <td>great locat</td>\n",
       "      <td>1.771153e-15</td>\n",
       "    </tr>\n",
       "    <tr>\n",
       "      <th>32</th>\n",
       "      <td>live room</td>\n",
       "      <td>1.771153e-15</td>\n",
       "    </tr>\n",
       "    <tr>\n",
       "      <th>18</th>\n",
       "      <td>resid inn</td>\n",
       "      <td>1.771153e-15</td>\n",
       "    </tr>\n",
       "    <tr>\n",
       "      <th>40</th>\n",
       "      <td>toronto area</td>\n",
       "      <td>1.771153e-15</td>\n",
       "    </tr>\n",
       "  </tbody>\n",
       "</table>\n",
       "</div>"
      ],
      "text/plain": [
       "            Word      MI Score\n",
       "30     doubl bed  1.771153e-15\n",
       "43   great locat  1.771153e-15\n",
       "32     live room  1.771153e-15\n",
       "18     resid inn  1.771153e-15\n",
       "40  toronto area  1.771153e-15"
      ]
     },
     "execution_count": 41,
     "metadata": {},
     "output_type": "execute_result"
    }
   ],
   "source": [
    "miScoredf_posphrase = getMI(top50PhraseGroundPos, finalposdf_phrase)\n",
    "miScoredf_posphrase.head()"
   ]
  },
  {
   "cell_type": "code",
   "execution_count": 42,
   "metadata": {},
   "outputs": [
    {
     "data": {
      "text/html": [
       "<div>\n",
       "<style scoped>\n",
       "    .dataframe tbody tr th:only-of-type {\n",
       "        vertical-align: middle;\n",
       "    }\n",
       "\n",
       "    .dataframe tbody tr th {\n",
       "        vertical-align: top;\n",
       "    }\n",
       "\n",
       "    .dataframe thead th {\n",
       "        text-align: right;\n",
       "    }\n",
       "</style>\n",
       "<table border=\"1\" class=\"dataframe\">\n",
       "  <thead>\n",
       "    <tr style=\"text-align: right;\">\n",
       "      <th></th>\n",
       "      <th>Word</th>\n",
       "      <th>MI Score</th>\n",
       "    </tr>\n",
       "  </thead>\n",
       "  <tbody>\n",
       "    <tr>\n",
       "      <th>4</th>\n",
       "      <td>next morn</td>\n",
       "      <td>8.881784e-16</td>\n",
       "    </tr>\n",
       "    <tr>\n",
       "      <th>25</th>\n",
       "      <td>smoke room</td>\n",
       "      <td>8.430756e-16</td>\n",
       "    </tr>\n",
       "    <tr>\n",
       "      <th>32</th>\n",
       "      <td>good valu</td>\n",
       "      <td>8.430756e-16</td>\n",
       "    </tr>\n",
       "    <tr>\n",
       "      <th>29</th>\n",
       "      <td>busi travel</td>\n",
       "      <td>8.430756e-16</td>\n",
       "    </tr>\n",
       "    <tr>\n",
       "      <th>27</th>\n",
       "      <td>staff member</td>\n",
       "      <td>8.430756e-16</td>\n",
       "    </tr>\n",
       "  </tbody>\n",
       "</table>\n",
       "</div>"
      ],
      "text/plain": [
       "            Word      MI Score\n",
       "4      next morn  8.881784e-16\n",
       "25    smoke room  8.430756e-16\n",
       "32     good valu  8.430756e-16\n",
       "29   busi travel  8.430756e-16\n",
       "27  staff member  8.430756e-16"
      ]
     },
     "execution_count": 42,
     "metadata": {},
     "output_type": "execute_result"
    }
   ],
   "source": [
    "miScoredf_negphrase = getMI(top50PhraseGroundNeg, finalnegdf_phrase)\n",
    "miScoredf_negphrase.head()"
   ]
  },
  {
   "cell_type": "code",
   "execution_count": null,
   "metadata": {},
   "outputs": [],
   "source": []
  }
 ],
 "metadata": {
  "kernelspec": {
   "display_name": "Python 3",
   "language": "python",
   "name": "python3"
  },
  "language_info": {
   "codemirror_mode": {
    "name": "ipython",
    "version": 3
   },
   "file_extension": ".py",
   "mimetype": "text/x-python",
   "name": "python",
   "nbconvert_exporter": "python",
   "pygments_lexer": "ipython3",
   "version": "3.7.3"
  }
 },
 "nbformat": 4,
 "nbformat_minor": 2
}
